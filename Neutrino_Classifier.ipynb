{
  "nbformat": 4,
  "nbformat_minor": 0,
  "metadata": {
    "colab": {
      "name": "Neutrino Classifier.ipynb",
      "provenance": [],
      "collapsed_sections": [],
      "toc_visible": true
    },
    "kernelspec": {
      "name": "python3",
      "display_name": "Python 3"
    },
    "accelerator": "GPU"
  },
  "cells": [
    {
      "cell_type": "code",
      "metadata": {
        "id": "jVD7prbhmLl-"
      },
      "source": [
        "import h5py\n",
        "import numpy as np\n",
        "import matplotlib.pyplot as plt \n",
        "\n",
        "# TensorFlow and tf.keras\n",
        "import tensorflow as tf\n",
        "from tensorflow import keras\n",
        "\n",
        "import matplotlib.style #Some style nonsense\n",
        "import matplotlib as mpl #Some more style nonsense\n",
        "\n",
        "from keras.layers import Input, Dense, Flatten, Dropout, Conv2D, MaxPooling2D, LeakyReLU, Activation, concatenate, UpSampling2D\n",
        "from keras.utils import plot_model\n",
        "from keras.models import Model\n",
        "from keras.activations import relu, sigmoid, softmax\n",
        "from sklearn.utils import shuffle\n",
        "\n",
        "# import the urllib library\n",
        "import urllib.request"
      ],
      "execution_count": null,
      "outputs": []
    },
    {
      "cell_type": "code",
      "metadata": {
        "id": "mpxd1kk1mPUX"
      },
      "source": [
        "import enum \n",
        "class Interaction(enum.Enum):\n",
        "    kNumuQE =0           # Numu CC QE interaction\n",
        "    kNumuRes =1           # Numu CC Resonant interaction\n",
        "    kNumuDIS = 2          # Numu CC DIS interaction\n",
        "    kNumuOther = 3        # Numu CC, other than above\n",
        "    kNueQE = 4            # Nue CC QE interaction\n",
        "    kNueRes = 5           # Nue CC Resonant interaction\n",
        "    kNueDIS = 6           # Nue CC DIS interaction\n",
        "    kNueOther = 7         # Nue CC, other than above\n",
        "    kNutauQE = 8          # Nutau CC QE interaction\n",
        "    kNutauRes = 9         # Nutau CC Resonant interaction\n",
        "    kNutauDIS =10         # Nutau CC DIS interaction\n",
        "    kNutauOther =11       # Nutau CC, other than above\n",
        "    kNuElectronElastic = 12# NC  Nu On E Scattering\n",
        "    kNC =13                # NC interaction\n",
        "    kCosmic =14           # Cosmic ray background\n",
        "    kOther =15            # Something else.  Tau?  Hopefully we don't use this\n",
        "    kNIntType=16          # Number of interaction types, used like a vector size"
      ],
      "execution_count": null,
      "outputs": []
    },
    {
      "cell_type": "markdown",
      "metadata": {
        "id": "2EawZEHRj-oT"
      },
      "source": [
        "# **Functions**"
      ]
    },
    {
      "cell_type": "code",
      "metadata": {
        "id": "fi0dldPXl3Qa"
      },
      "source": [
        "global task\n",
        "\n",
        "def train_extractor(n_files):\n",
        "  '''\n",
        "  Function that extracts HDF5 data into training data and labels, depending on the task\n",
        "  Inputs:\n",
        "  n_files: number of files to extract data from, starts at 0\n",
        "  Outputs:\n",
        "  maps: xy and yz images of events for training\n",
        "  labels: corresponding labels for the maps\n",
        "  '''\n",
        "  total_n_events = 0 # initialising events\n",
        "  maps = []                    # training data\n",
        "  labels = []                  # training labels\n",
        "  # empty arrays \n",
        "  interactions,events,nuenergy,lepenergy = [],[],[],[]            \n",
        "    \n",
        "  for i in range(n_files): # looping through files\n",
        "    filename = str(\"neutrino\" + str(i+1) + \".h5\") # creating filename to extract data from urllib.request\n",
        "    urllib.request.urlretrieve('http://www.hep.ucl.ac.uk/undergrad/0056/other/projects/nova/' + filename, filename)\n",
        "    df = h5py.File(filename,'r')\n",
        "    n_events = df['cvnmap'].shape[0]\n",
        "    total_n_events += n_events\n",
        "    \n",
        "    # extracting maps and meta data \n",
        "    cvnmaps=np.array(df['cvnmap']).reshape(n_events,100,80,2) # extracting and reshaping events in each data file\n",
        "    nu_e =np.array(df['neutrino']['nuenergy'])\n",
        "    lep_e =np.array(df['neutrino']['lepenergy'])\n",
        "    ints = np.array(df['neutrino']['interaction'])\n",
        "    \n",
        "    for j in range(n_events):\n",
        "      # appending each event/meta variable to empty array, so we have arrays full of all events/meta data from all files\n",
        "      nuenergy.append(nu_e[j])\n",
        "      lepenergy.append(lep_e[j])\n",
        "      interactions.append(ints[j])\n",
        "      events.append(cvnmaps[j]) # creating one array full of all events from all imported files    \n",
        "  \n",
        "  events=np.array(events)\n",
        "  zeros_maps, zeros_labels = [], []\n",
        "  ones_maps, ones_labels = [], []\n",
        "  QE, DIS, RES, other, NC = [], [], [], [], []\n",
        "  QE_labels, DIS_labels, RES_labels, other_labels, NC_labels = [],[],[], [], []\n",
        "\n",
        "### numu event classifier ### \n",
        "  if task == 1:\n",
        "    for j in range(total_n_events):\n",
        "      if interactions[j] <= 3:\n",
        "        ones_labels.append(int(1))\n",
        "        ones_maps.append(events[j])\n",
        "      else:\n",
        "        zeros_labels.append(int(0))\n",
        "        zeros_maps.append(events[j])   \n",
        "    ones_labels, ones_maps = ones_labels[:len(zeros_labels)], ones_maps[:len(zeros_maps)] # cutting 1s array to the same size as 0s array\n",
        "    maps = zeros_maps + ones_maps\n",
        "    labels = zeros_labels + ones_labels\n",
        "\n",
        "### neutrino energy prediction algorithm ###\n",
        "  elif task == 3:\n",
        "    norm = max(nuenergy)\n",
        "    for j in range(total_n_events):\n",
        "      maps.append(events[j]) \n",
        "      labels.append(nuenergy[j]/norm)\n",
        "\n",
        "### interaction type classifier ###\n",
        "  elif task == 4:\n",
        "    for j in range(total_n_events):\n",
        "      if interactions[j] <= 3:\n",
        "        ones_labels.append(1)\n",
        "        ones_maps.append(events[j])\n",
        "      elif (interactions[j] <=7) & (interactions[j] > 3):\n",
        "        zeros_labels.append(0)\n",
        "        zeros_maps.append(events[j])   \n",
        "    ones_labels, ones_maps = ones_labels[:len(zeros_labels)], ones_maps[:len(zeros_maps)]\n",
        "    maps = zeros_maps + ones_maps\n",
        "    labels = zeros_labels + ones_labels\n",
        "\n",
        "### y = lepton/neutrino energy algorithm ###\n",
        "  elif task == 5:\n",
        "    for j in range(total_n_events):\n",
        "      if nuenergy[j] > 0:\n",
        "        maps.append(events[j]) \n",
        "        labels.append((lepenergy[j]/nuenergy[j]))\n",
        "\n",
        "### interaction mode classifier ###\n",
        "  elif task == 6:\n",
        "    for j in range(total_n_events):\n",
        "      if (interactions[j] == 0) or (interactions[j] == 4) or (interactions[j] == 8):\n",
        "        QE.append(events[j]) # appending only QE events/labels\n",
        "        QE_labels.append(4) \n",
        "      elif (interactions[j] == 1) or (interactions[j] == 5) or (interactions[j] == 9):\n",
        "        RES.append(events[j]) # appending only RES events/labels\n",
        "        RES_labels.append(3) \n",
        "      elif (interactions[j] == 2) or (interactions[j] == 6) or (interactions[j] == 10):\n",
        "        DIS.append(events[j]) # appending only DIS events/labels\n",
        "        DIS_labels.append(2)\n",
        "      elif (interactions[j] == 3) or (interactions[j] == 7) or (interactions[j] == 11):\n",
        "        other.append(events[j]) # appending only \"other\" events/labels\n",
        "        other_labels.append(1)\n",
        "      elif (interactions[j] == 12) or (interactions[j] == 13):\n",
        "        NC.append(events[j]) # appending only NC events/labels\n",
        "        NC_labels.append(0)\n",
        "    \n",
        "    # cutting all arrays to the same size so that the dataset has equal amounts \n",
        "    # of all intereaction modes\n",
        "    QE_labels, QE = QE_labels[:len(other_labels)], QE[:len(other)]\n",
        "    RES_labels, RES = RES_labels[:len(other_labels)], RES[:len(other)]\n",
        "    DIS_labels, DIS = DIS_labels[:len(other_labels)], DIS[:len(other)]\n",
        "    NC_labels, NC = NC_labels[:len(other_labels)], NC[:len(other)]\n",
        "\n",
        "    maps = QE + RES + DIS + other + NC\n",
        "    labels = QE_labels + RES_labels + DIS_labels + other_labels + NC_labels\n",
        "      \n",
        "  # shuffles the data and labels simultaneously ***without disrupting the mapping***\n",
        "  maps, labels = shuffle(np.array(maps),np.array(labels)) \n",
        "  return maps, labels\n"
      ],
      "execution_count": null,
      "outputs": []
    },
    {
      "cell_type": "code",
      "metadata": {
        "id": "qPACy3xDFHoI"
      },
      "source": [
        "def test_extractor(start,n_files):\n",
        "  '''\n",
        "  Function that extracts HDF5 data into testing data and labels, depending on the task\n",
        "  Inputs:\n",
        "  start: which filenumber to start from, so as to avoid re-using train data\n",
        "  n_files: number of files to extract data from\n",
        "  Outputs:\n",
        "  maps: xy and yz images of events for testing\n",
        "  labels: corresponding labels for the maps\n",
        "  '''\n",
        "  total_n_events = 0 # initialising events\n",
        "  # empty arrays \n",
        "  maps,labels,interactions,nuenergy,lepenergy,events,fs = [],[],[],[],[],[],[]\n",
        "  files = np.arange(start, start+n_files)  \n",
        "\n",
        "  for i in files:\n",
        "    filename = str(\"neutrino\" + str(i+1) + \".h5\") # creating filename to extract data from urllib.request\n",
        "    urllib.request.urlretrieve(\n",
        "        'http://www.hep.ucl.ac.uk/undergrad/0056/other/projects/nova/' + filename, \n",
        "        filename)\n",
        "    df = h5py.File(filename,'r')\n",
        "    n_events = df['cvnmap'].shape[0]\n",
        "    total_n_events += n_events\n",
        "    \n",
        "    # extracting maps and meta data \n",
        "    cvnmaps=np.array(df['cvnmap']).reshape(n_events,100,80,2) # extracting and reshaping events in each data file\n",
        "    finalstate =np.array(df['neutrino']['finalstate'])\n",
        "    nu_e =np.array(df['neutrino']['nuenergy'])\n",
        "    lep_e =np.array(df['neutrino']['lepenergy'])\n",
        "    ints = np.array(df['neutrino']['interaction'])\n",
        "    \n",
        "    for j in range(n_events):\n",
        "      # appending each event/meta variable to empty array, so we have arrays \n",
        "      # full of all events/meta data from all files\n",
        "      nuenergy.append(nu_e[j])\n",
        "      lepenergy.append(lep_e[j])\n",
        "      interactions.append(ints[j])\n",
        "      fs.append(finalstate[j])\n",
        "      events.append(cvnmaps[j]) # creating one array full of all events from all \n",
        "                                # imported files    \n",
        "  events=np.array(events)\n",
        "\n",
        "  if task == 1:    # numu event classifier \n",
        "    for j in range(total_n_events):\n",
        "      maps.append(events[j]) \n",
        "      labels.append(1) if interactions[j] <= 3 else labels.append(0)\n",
        "      # all the metadata variables are extracted to investigate classifier efficiency (task 2)\n",
        "    maps, labels, nuenergy, lepenergy,interactions,fs = np.array(maps), np.array(labels), np.array(nuenergy), np.array(lepenergy),np.array(interactions),np.array(fs)\n",
        "    return maps, labels, nuenergy, lepenergy,interactions,fs\n",
        "  \n",
        "  elif task == 3:  # neutrino energy prediction algorithm \n",
        "    norm = max(nuenergy)\n",
        "    for j in range(total_n_events):  \n",
        "      maps.append(events[j]) # all events from here will be added to dataset\n",
        "      labels.append(nuenergy[j]/norm) \n",
        "    return np.array(maps), np.array(labels)\n",
        "    \n",
        "  elif task == 4:  # interaction type classifier \n",
        "    for j in range(total_n_events):\n",
        "      if interactions[j] <= 3:\n",
        "        labels.append(1) # is muon neutrino event\n",
        "        maps.append(events[j])\n",
        "      elif (interactions[j] <=7 ) & (interactions[j] > 3):\n",
        "        labels.append(0) # is electron neutrino event\n",
        "        maps.append(events[j])\n",
        "    maps, labels = shuffle(np.array(maps),np.array(labels))\n",
        "    return maps, labels\n",
        "\n",
        "  elif task == 5:  # y = lepton/neutrino energy algorithm \n",
        "    for j in range(total_n_events):   \n",
        "      if nuenergy[j] > 0: \n",
        "        maps.append(events[j])  # all events from here will be added to dataset\n",
        "        labels.append(lepenergy[j]/nuenergy[j])\n",
        "    return np.array(maps), np.array(labels)\n",
        "\n",
        "  elif task == 6:  # interaction mode classifier \n",
        "    for j in range(total_n_events):\n",
        "      # QE events\n",
        "      if (interactions[j] == 0) or (interactions[j] == 4) or (interactions[j] == 8):\n",
        "        maps.append(events[j]) \n",
        "        labels.append(4) \n",
        "      # Res events\n",
        "      elif (interactions[j] == 1) or (interactions[j] == 5) or (interactions[j] == 9):\n",
        "        maps.append(events[j]) \n",
        "        labels.append(3) \n",
        "      # DIS events\n",
        "      elif (interactions[j] == 2) or (interactions[j] == 6) or (interactions[j] == 10):\n",
        "        maps.append(events[j]) \n",
        "        labels.append(2) \n",
        "      # \"other\" events\n",
        "      elif (interactions[j] == 3) or (interactions[j] == 7) or (interactions[j] == 11):\n",
        "        maps.append(events[j])\n",
        "        labels.append(1) \n",
        "      # NC events\n",
        "      elif (interactions[j] == 12) or (interactions[j] == 13):\n",
        "        maps.append(events[j]) \n",
        "        labels.append(0) \n",
        "    maps, labels = shuffle(np.array(maps),np.array(labels))\n",
        "    return maps, labels\n",
        "\n"
      ],
      "execution_count": null,
      "outputs": []
    },
    {
      "cell_type": "code",
      "metadata": {
        "id": "6xoJbnBoqli3"
      },
      "source": [
        "def feature_extractor(input_img): \n",
        "  '''\n",
        "  Function to create convolutional layers to extract features from events using Keras Functional API\n",
        "  Inputs:\n",
        "  input_img: input shape of images to be trained using keras.layers.Input\n",
        "  Outputs:\n",
        "  model: model that extracts features from images\n",
        "  '''\n",
        "  alpha = 1e-4\n",
        "  if task == 1:\n",
        "    model = Conv2D(8,(2,2), activation='relu',  padding='same', input_shape=(100,80,1), \n",
        "                  kernel_regularizer = keras.regularizers.l2(alpha),\n",
        "                  bias_regularizer = keras.regularizers.l2(alpha)) (input_img)\n",
        "    model = MaxPooling2D(pool_size=(3,3), padding='same')(model)\n",
        "    model = Dropout(0.2)(model)\n",
        "    model = Conv2D(32,(2,2), activation='relu', padding='same',\n",
        "                   kernel_regularizer = keras.regularizers.l2(alpha),\n",
        "                   bias_regularizer = keras.regularizers.l2(alpha))(model)\n",
        "    model = MaxPooling2D(pool_size=(3,3), padding='same')(model)\n",
        "    model = Dropout(0.2)(model) \n",
        "    model = Conv2D(128,(2,2), activation='relu', padding='same')(model)\n",
        "    model = MaxPooling2D(pool_size=(3,3), padding='same')(model)\n",
        "    model = Dropout(0.4)(model)  \n",
        "    model = Flatten()(model)\n",
        "\n",
        "  else:\n",
        "    model = Conv2D(32,(2,2), activation='relu', padding='same',\n",
        "                   kernel_regularizer = keras.regularizers.l2(alpha),\n",
        "                   bias_regularizer = keras.regularizers.l2(alpha))(input_img)\n",
        "    model = MaxPooling2D(pool_size=(3,3), padding='same')(model)\n",
        "    model = Dropout(0.5)(model)\n",
        "    model = Conv2D(16,(2,2), activation='relu', padding='same',\n",
        "                   kernel_regularizer = keras.regularizers.l2(alpha),\n",
        "                   bias_regularizer = keras.regularizers.l2(alpha))(model)\n",
        "    model = MaxPooling2D(pool_size=(3,3), padding='same')(model)\n",
        "    model = Dropout(0.3)(model)\n",
        "    model = Conv2D(2,(2,2), activation='relu', padding='same')(model)\n",
        "    model = MaxPooling2D(pool_size=(3,3), padding='same')(model)\n",
        "    model = Flatten()(model)\n",
        "  \n",
        "  return model"
      ],
      "execution_count": null,
      "outputs": []
    },
    {
      "cell_type": "code",
      "metadata": {
        "id": "EqJMlS_F3iuy"
      },
      "source": [
        "def image_separator(img):\n",
        "  '''\n",
        "  Function to separate images into xz and yz components\n",
        "  Inputs: image that we want to separate\n",
        "  Outputs:\n",
        "  xz: xz view of interaction\n",
        "  yz: yz view of interaction\n",
        "  '''\n",
        "  xz = img[:,:,:,:1] \n",
        "  yz = img[:,:,:,1:] \n",
        "\n",
        "  return xz, yz"
      ],
      "execution_count": null,
      "outputs": []
    },
    {
      "cell_type": "markdown",
      "metadata": {
        "id": "_k4JA_YwylZI"
      },
      "source": [
        "# **Inspecting the dataset**\n",
        "\n",
        "The first thing I want to do before starting this project is analyse the quality of the data. Especially after reading many resources for this code, I found that almost always a model can never achieve desirable accuracy unless the data it is trained on is of good quality. This means there is preferably a good amount of data (at least thousands), and the data is not biased toward certain variables. \n",
        "I would like to clarify that the proportions of different variables are more or less the same for all the data files, even though below I only analyse this on one file. \n"
      ]
    },
    {
      "cell_type": "code",
      "metadata": {
        "colab": {
          "base_uri": "https://localhost:8080/"
        },
        "id": "ez9dwi4-0Ry0",
        "outputId": "30dec449-0fc5-4f98-a9e6-44cd68acae04"
      },
      "source": [
        "urllib.request.urlretrieve('http://www.hep.ucl.ac.uk/undergrad/0056/other/projects/nova/neutrino1.h5', \n",
        "                           'neutrino1.h5')\n",
        "df=h5py.File('neutrino1.h5','r')\n",
        "n_events = np.array(df['cvnmap']).shape[0]\n",
        "numu, nue, nutau, DIS, QE = 0,0,0,0,0\n",
        "ints = df['neutrino']['interaction']\n",
        "for i in range(n_events):\n",
        "  if (ints[i] <= 3):\n",
        "    numu +=1 \n",
        "  elif (ints[i] <= 7) & (ints[i] > 3):\n",
        "    nue += 1\n",
        "  elif (ints[i] <= 11) & (ints[i] > 7):\n",
        "    nutau +=1\n",
        "  if (ints[i] == 0) or (ints[i] == 4) or (ints[i] == 8):\n",
        "    QE +=1\n",
        "  elif (ints[i] == 2) or (ints[i] == 6) or (ints[i] == 10):\n",
        "    DIS += 1\n",
        "\n",
        "print(\"muon neutrino events make up {0:0.2f}\".format(100*numu/n_events), \n",
        "      \"% of all events\")\n",
        "print(\"electrons neutrino events make up {0:0.2f}\".format(100*nue/n_events), \n",
        "      \"% of all events\")\n",
        "print(\"tau neutrino events make up {0:0.2f}\".format(100*nutau/n_events), \n",
        "      \"% of all events\")\n",
        "print(\"DIS events make up {0:0.2f}\".format(100*DIS/n_events), \n",
        "      \"% while QE events make up {0:0.2f}\".format(100*QE/n_events), \"%\")"
      ],
      "execution_count": null,
      "outputs": [
        {
          "output_type": "stream",
          "text": [
            "muon neutrino events make up 87.93 % of all events\n",
            "electrons neutrino events make up 1.07 % of all events\n",
            "tau neutrino events make up 0.00 % of all events\n",
            "DIS events make up 54.75 % while QE events make up 12.44 %\n"
          ],
          "name": "stdout"
        }
      ]
    },
    {
      "cell_type": "markdown",
      "metadata": {
        "id": "HWfsKLHZAQmq"
      },
      "source": [
        "## Unskewing the data\n",
        "\n",
        "I compared the number of CC muon neutrino events versus the number of non-CC events, and found that there is a huge bias towards charged current events and that they make up the majority of the events in the data files, roughly 87% of all data. This means that while training the model, the data was skewed towards muon neutrino events. \n",
        "\n",
        "To offset this, I have created data arrays filled with a roughly equal number of CC and non-CC events, with corresponding labels, and have trained my model on that set. I did this by creating two sets of image and data arrays (one for $\\nu_\\mu$ CC events and one for non $\\nu_\\mu$ CC events) and then eliminated the excess events/labels from the array with the 1s, a process called undersampling. Then I appended the 1 and 0 label arrays and the 1 and 0 image arrays, and shuffled them using `sklearn.utils.shuffle` function, so the data would be randomly distributed without disrupting the mapping. \n",
        "\n",
        "In the Task 4 training data, the electron neutrinos only made up a maximum of 2% of events while muon neutrinos made up a whopping 98% of all interactions. Undersampling was employed again in the same manner as above. \n",
        "\n",
        "I also noted that DIS events make up over half of the data, while QE events are only ~12%. "
      ]
    },
    {
      "cell_type": "markdown",
      "metadata": {
        "id": "Ui7e6Fuaimr9"
      },
      "source": [
        "# **Task 1:** $\\nu_\\mu$ event classifier"
      ]
    },
    {
      "cell_type": "markdown",
      "metadata": {
        "id": "jW3KXIo0uMPK"
      },
      "source": [
        "I decided to make a binary classifier to identify $\\nu_\\mu$ events, with the label 1 corresponding to a $\\nu_\\mu$ event and a 0 corresponding to other events. In the above section, I discussed how $\\nu_{\\mu}$ events make up 87% of the dataset and how I used a preprocessing method called downsampling to rebalance the data.\n",
        "\n",
        "## First step: Extracting data\n",
        "\n",
        "I created a function to extract data from the HDF5 files called `train_extractor`. To make my code more efficient and to lessen the number of necessary functions, within this function I appended the necessary maps and labels needed for training every model, as opposed to repeating this for each task. The tasks were numbered from 1-4 and depending on the task, different values were appended to the image/label arrays."
      ]
    },
    {
      "cell_type": "code",
      "metadata": {
        "colab": {
          "base_uri": "https://localhost:8080/"
        },
        "id": "ZuXv27FtoSsP",
        "outputId": "d8a8d9ec-8f6d-4cd2-fb33-7df403fa4759"
      },
      "source": [
        "########\n",
        "task = 1\n",
        "########\n",
        "\n",
        "train_images, train_labels = train_extractor(39)\n",
        "xz_train, yz_train  = image_separator(train_images)\n",
        "\n",
        "ones = 0\n",
        "zeros = 0\n",
        "# checking that there is an equal number of both labels\n",
        "for n in train_labels:\n",
        "  if n == 1:\n",
        "    ones += 1\n",
        "  else: \n",
        "    zeros += 1\n",
        "print(\"The number of CC events is:\", ones,\n",
        "      \"and the number of non-CC events is:\", zeros)\n"
      ],
      "execution_count": null,
      "outputs": [
        {
          "output_type": "stream",
          "text": [
            "The number of CC events is: 32174 and the number of non-CC events is: 32174\n"
          ],
          "name": "stdout"
        }
      ]
    },
    {
      "cell_type": "markdown",
      "metadata": {
        "id": "hQfKsA6aope7"
      },
      "source": [
        "## Model Architecture\n",
        "\n",
        "The Keras Functional API was used to create a dual-input CNN. A function was made called `feature_extractor()` which contains the three convolutional, pooling and dropout layers. I noticed that my network performed way better (80%+ accuracy) when I increased the number of filters layer by layer, as opposed to the standard way of building a CNN where the first layer has the most nodes (75% max accuracy). "
      ]
    },
    {
      "cell_type": "code",
      "metadata": {
        "colab": {
          "base_uri": "https://localhost:8080/"
        },
        "id": "l7sbMlAsqsWu",
        "outputId": "22a8ba07-187e-470d-a723-3ae4f1d7ffa6"
      },
      "source": [
        "xz_input=Input(shape=(100,80,1))\n",
        "yz_input= Input(shape=(100,80,1))\n",
        "xz_model = feature_extractor(xz_input) # feature extractor for xz images\n",
        "yz_model = feature_extractor(yz_input) # feature extractor for yz images\n",
        "\n",
        "conv = concatenate([xz_model, yz_model])\n",
        "model = Flatten()(conv)\n",
        "model = Dense(8, activation='relu')(model)\n",
        "model = Dense(32, activation='relu')(model)\n",
        "model = Dropout(0.3)(model)\n",
        "output = Dense(1, activation='sigmoid')(model)\n",
        "model = Model(inputs=[xz_input, yz_input], outputs=[output])\n",
        "\n",
        "# summarize layers\n",
        "print(model.summary())\n",
        "# plot model\n",
        "#plot_model(model, to_file='convolutional_neural_network.png')"
      ],
      "execution_count": null,
      "outputs": [
        {
          "output_type": "stream",
          "text": [
            "Model: \"model_1\"\n",
            "__________________________________________________________________________________________________\n",
            "Layer (type)                    Output Shape         Param #     Connected to                     \n",
            "==================================================================================================\n",
            "input_3 (InputLayer)            [(None, 100, 80, 1)] 0                                            \n",
            "__________________________________________________________________________________________________\n",
            "input_4 (InputLayer)            [(None, 100, 80, 1)] 0                                            \n",
            "__________________________________________________________________________________________________\n",
            "conv2d_6 (Conv2D)               (None, 100, 80, 8)   40          input_3[0][0]                    \n",
            "__________________________________________________________________________________________________\n",
            "conv2d_9 (Conv2D)               (None, 100, 80, 8)   40          input_4[0][0]                    \n",
            "__________________________________________________________________________________________________\n",
            "max_pooling2d_6 (MaxPooling2D)  (None, 34, 27, 8)    0           conv2d_6[0][0]                   \n",
            "__________________________________________________________________________________________________\n",
            "max_pooling2d_9 (MaxPooling2D)  (None, 34, 27, 8)    0           conv2d_9[0][0]                   \n",
            "__________________________________________________________________________________________________\n",
            "dropout_7 (Dropout)             (None, 34, 27, 8)    0           max_pooling2d_6[0][0]            \n",
            "__________________________________________________________________________________________________\n",
            "dropout_10 (Dropout)            (None, 34, 27, 8)    0           max_pooling2d_9[0][0]            \n",
            "__________________________________________________________________________________________________\n",
            "conv2d_7 (Conv2D)               (None, 34, 27, 32)   1056        dropout_7[0][0]                  \n",
            "__________________________________________________________________________________________________\n",
            "conv2d_10 (Conv2D)              (None, 34, 27, 32)   1056        dropout_10[0][0]                 \n",
            "__________________________________________________________________________________________________\n",
            "max_pooling2d_7 (MaxPooling2D)  (None, 12, 9, 32)    0           conv2d_7[0][0]                   \n",
            "__________________________________________________________________________________________________\n",
            "max_pooling2d_10 (MaxPooling2D) (None, 12, 9, 32)    0           conv2d_10[0][0]                  \n",
            "__________________________________________________________________________________________________\n",
            "dropout_8 (Dropout)             (None, 12, 9, 32)    0           max_pooling2d_7[0][0]            \n",
            "__________________________________________________________________________________________________\n",
            "dropout_11 (Dropout)            (None, 12, 9, 32)    0           max_pooling2d_10[0][0]           \n",
            "__________________________________________________________________________________________________\n",
            "conv2d_8 (Conv2D)               (None, 12, 9, 128)   16512       dropout_8[0][0]                  \n",
            "__________________________________________________________________________________________________\n",
            "conv2d_11 (Conv2D)              (None, 12, 9, 128)   16512       dropout_11[0][0]                 \n",
            "__________________________________________________________________________________________________\n",
            "max_pooling2d_8 (MaxPooling2D)  (None, 4, 3, 128)    0           conv2d_8[0][0]                   \n",
            "__________________________________________________________________________________________________\n",
            "max_pooling2d_11 (MaxPooling2D) (None, 4, 3, 128)    0           conv2d_11[0][0]                  \n",
            "__________________________________________________________________________________________________\n",
            "dropout_9 (Dropout)             (None, 4, 3, 128)    0           max_pooling2d_8[0][0]            \n",
            "__________________________________________________________________________________________________\n",
            "dropout_12 (Dropout)            (None, 4, 3, 128)    0           max_pooling2d_11[0][0]           \n",
            "__________________________________________________________________________________________________\n",
            "flatten_3 (Flatten)             (None, 1536)         0           dropout_9[0][0]                  \n",
            "__________________________________________________________________________________________________\n",
            "flatten_4 (Flatten)             (None, 1536)         0           dropout_12[0][0]                 \n",
            "__________________________________________________________________________________________________\n",
            "concatenate_1 (Concatenate)     (None, 3072)         0           flatten_3[0][0]                  \n",
            "                                                                 flatten_4[0][0]                  \n",
            "__________________________________________________________________________________________________\n",
            "flatten_5 (Flatten)             (None, 3072)         0           concatenate_1[0][0]              \n",
            "__________________________________________________________________________________________________\n",
            "dense_3 (Dense)                 (None, 8)            24584       flatten_5[0][0]                  \n",
            "__________________________________________________________________________________________________\n",
            "dense_4 (Dense)                 (None, 32)           288         dense_3[0][0]                    \n",
            "__________________________________________________________________________________________________\n",
            "dropout_13 (Dropout)            (None, 32)           0           dense_4[0][0]                    \n",
            "__________________________________________________________________________________________________\n",
            "dense_5 (Dense)                 (None, 1)            33          dropout_13[0][0]                 \n",
            "==================================================================================================\n",
            "Total params: 60,121\n",
            "Trainable params: 60,121\n",
            "Non-trainable params: 0\n",
            "__________________________________________________________________________________________________\n",
            "None\n"
          ],
          "name": "stdout"
        }
      ]
    },
    {
      "cell_type": "code",
      "metadata": {
        "colab": {
          "base_uri": "https://localhost:8080/"
        },
        "id": "AwCOkqhhquLb",
        "outputId": "1e04127e-a000-4036-a2c7-30300907ff05"
      },
      "source": [
        "# compiling the first model\n",
        "early_stop = tf.keras.callbacks.EarlyStopping(monitor = \"val_loss\", \n",
        "                                              mode = \"min\", \n",
        "                                              patience=5, \n",
        "                                              restore_best_weights=True)\n",
        "keras.backend.clear_session()\n",
        "model.compile(optimizer='adam',\n",
        "              loss=tf.keras.losses.binary_crossentropy,\n",
        "              metrics=['binary_accuracy'])\n",
        "history = model.fit([xz_train,yz_train], train_labels, epochs=70, \n",
        "                    verbose = 2, validation_split=0.2,shuffle=True, \n",
        "                    batch_size=256, callbacks=early_stop)"
      ],
      "execution_count": null,
      "outputs": [
        {
          "output_type": "stream",
          "text": [
            "Epoch 1/70\n",
            "202/202 - 14s - loss: 0.6063 - binary_accuracy: 0.6634 - val_loss: 0.5400 - val_binary_accuracy: 0.7347\n",
            "Epoch 2/70\n",
            "202/202 - 6s - loss: 0.5320 - binary_accuracy: 0.7256 - val_loss: 0.4886 - val_binary_accuracy: 0.7648\n",
            "Epoch 3/70\n",
            "202/202 - 6s - loss: 0.4998 - binary_accuracy: 0.7553 - val_loss: 0.4789 - val_binary_accuracy: 0.7753\n",
            "Epoch 4/70\n",
            "202/202 - 6s - loss: 0.4800 - binary_accuracy: 0.7708 - val_loss: 0.4884 - val_binary_accuracy: 0.7633\n",
            "Epoch 5/70\n",
            "202/202 - 6s - loss: 0.4716 - binary_accuracy: 0.7778 - val_loss: 0.4749 - val_binary_accuracy: 0.7836\n",
            "Epoch 6/70\n",
            "202/202 - 6s - loss: 0.4622 - binary_accuracy: 0.7860 - val_loss: 0.4446 - val_binary_accuracy: 0.8033\n",
            "Epoch 7/70\n",
            "202/202 - 6s - loss: 0.4568 - binary_accuracy: 0.7891 - val_loss: 0.4405 - val_binary_accuracy: 0.8043\n",
            "Epoch 8/70\n",
            "202/202 - 6s - loss: 0.4490 - binary_accuracy: 0.7940 - val_loss: 0.4917 - val_binary_accuracy: 0.7684\n",
            "Epoch 9/70\n",
            "202/202 - 6s - loss: 0.4470 - binary_accuracy: 0.7959 - val_loss: 0.4371 - val_binary_accuracy: 0.8051\n",
            "Epoch 10/70\n",
            "202/202 - 6s - loss: 0.4405 - binary_accuracy: 0.8011 - val_loss: 0.4276 - val_binary_accuracy: 0.8136\n",
            "Epoch 11/70\n",
            "202/202 - 6s - loss: 0.4382 - binary_accuracy: 0.8029 - val_loss: 0.4271 - val_binary_accuracy: 0.8115\n",
            "Epoch 12/70\n",
            "202/202 - 6s - loss: 0.4348 - binary_accuracy: 0.8046 - val_loss: 0.4365 - val_binary_accuracy: 0.8040\n",
            "Epoch 13/70\n",
            "202/202 - 6s - loss: 0.4329 - binary_accuracy: 0.8059 - val_loss: 0.4349 - val_binary_accuracy: 0.8071\n",
            "Epoch 14/70\n",
            "202/202 - 6s - loss: 0.4266 - binary_accuracy: 0.8101 - val_loss: 0.4068 - val_binary_accuracy: 0.8252\n",
            "Epoch 15/70\n",
            "202/202 - 6s - loss: 0.4245 - binary_accuracy: 0.8125 - val_loss: 0.4248 - val_binary_accuracy: 0.8144\n",
            "Epoch 16/70\n",
            "202/202 - 6s - loss: 0.4205 - binary_accuracy: 0.8138 - val_loss: 0.4076 - val_binary_accuracy: 0.8233\n",
            "Epoch 17/70\n",
            "202/202 - 6s - loss: 0.4209 - binary_accuracy: 0.8155 - val_loss: 0.4094 - val_binary_accuracy: 0.8239\n",
            "Epoch 18/70\n",
            "202/202 - 6s - loss: 0.4167 - binary_accuracy: 0.8170 - val_loss: 0.4047 - val_binary_accuracy: 0.8277\n",
            "Epoch 19/70\n",
            "202/202 - 6s - loss: 0.4162 - binary_accuracy: 0.8177 - val_loss: 0.4006 - val_binary_accuracy: 0.8300\n",
            "Epoch 20/70\n",
            "202/202 - 6s - loss: 0.4158 - binary_accuracy: 0.8184 - val_loss: 0.4117 - val_binary_accuracy: 0.8239\n",
            "Epoch 21/70\n",
            "202/202 - 6s - loss: 0.4147 - binary_accuracy: 0.8184 - val_loss: 0.4149 - val_binary_accuracy: 0.8198\n",
            "Epoch 22/70\n",
            "202/202 - 6s - loss: 0.4109 - binary_accuracy: 0.8214 - val_loss: 0.4107 - val_binary_accuracy: 0.8237\n",
            "Epoch 23/70\n",
            "202/202 - 6s - loss: 0.4101 - binary_accuracy: 0.8210 - val_loss: 0.4136 - val_binary_accuracy: 0.8232\n",
            "Epoch 24/70\n",
            "202/202 - 6s - loss: 0.4109 - binary_accuracy: 0.8220 - val_loss: 0.4018 - val_binary_accuracy: 0.8297\n"
          ],
          "name": "stdout"
        }
      ]
    },
    {
      "cell_type": "code",
      "metadata": {
        "colab": {
          "base_uri": "https://localhost:8080/",
          "height": 312
        },
        "id": "ZrythUfnqxPC",
        "outputId": "0cc57793-e710-4e10-8b0c-16470e7c20fc"
      },
      "source": [
        "# we plot the accuracies of the trained model on the same graph \n",
        "# as the test data accuracy\n",
        "plt.figure()\n",
        "plt.plot(history.history['binary_accuracy'], label='Training accuracy')\n",
        "plt.plot(history.history['val_binary_accuracy'], label = 'Validation accuracy')\n",
        "plt.xlabel('Epoch')\n",
        "plt.ylabel('Accuracy')\n",
        "plt.legend(loc='best')\n",
        "plt.title(\"Comparing the accuracies of the validation and trained data for a CC event classifier\")\n"
      ],
      "execution_count": null,
      "outputs": [
        {
          "output_type": "execute_result",
          "data": {
            "text/plain": [
              "Text(0.5, 1.0, 'Comparing the accuracies of the validation and trained data for a CC event classifier')"
            ]
          },
          "metadata": {
            "tags": []
          },
          "execution_count": 11
        },
        {
          "output_type": "display_data",
          "data": {
            "image/png": "[encoded data removed]",
            "text/plain": [
              "<Figure size 432x288 with 1 Axes>"
            ]
          },
          "metadata": {
            "tags": [],
            "needs_background": "light"
          }
        }
      ]
    },
    {
      "cell_type": "code",
      "metadata": {
        "colab": {
          "base_uri": "https://localhost:8080/",
          "height": 312
        },
        "id": "4DvjalvfUXV_",
        "outputId": "791c9810-97b0-43d7-f1e3-1e059d0f096b"
      },
      "source": [
        "plt.figure()\n",
        "plt.plot(history.history['loss'], label='Training loss')\n",
        "plt.plot(history.history['val_loss'], label='Validation loss')\n",
        "plt.xlabel('Epoch')\n",
        "plt.ylabel('Loss')\n",
        "plt.legend(loc='best')\n",
        "plt.title(\"Comparing the losses of the validation and trained data for a CC event classifier\")\n"
      ],
      "execution_count": null,
      "outputs": [
        {
          "output_type": "execute_result",
          "data": {
            "text/plain": [
              "Text(0.5, 1.0, 'Comparing the losses of the validation and trained data for a CC event classifier')"
            ]
          },
          "metadata": {
            "tags": []
          },
          "execution_count": 12
        },
        {
          "output_type": "display_data",
          "data": {
            "image/png": "[encoded data removed]",
            "text/plain": [
              "<Figure size 432x288 with 1 Axes>"
            ]
          },
          "metadata": {
            "tags": [],
            "needs_background": "light"
          }
        }
      ]
    },
    {
      "cell_type": "markdown",
      "metadata": {
        "id": "DdNUPDNyye80"
      },
      "source": [
        "## Network optimisation\n",
        "\n",
        "## 1. Hyperparameters \n",
        "\n",
        "### Optimiser, metric, loss\n",
        "\n",
        "As this is a binary classifier, the binarycrossentropy loss and binary_accuracy were employed. The optimiser 'adam' was used throughout.\n",
        "\n",
        "### Batch size:\n",
        "\n",
        "The batch size was chosen as 256 as the data points are in the hundreds of thousands, so processing more data in each epoch was deemed more efficient. \n",
        "\n",
        "### Kernel stride:\n",
        "\n",
        "A kernel stride of (2,2) produced lower accuracy on both training/validation and on the test data than the default stride of (1,1), so it was kept to the default. \n",
        "\n",
        "### Callbacks\n",
        "\n",
        "If the validation loss did not become lower by a threshold value for 5 epochs, training was stopped to limit overtraining. \n",
        "\n",
        "## 2. Parameters\n",
        "\n",
        "The number of parameters was kept lower than the data points. It was noted that whenever the number of parameters was ~1,000-2,000 less than the number of data points, the training/validation accuracy shot up significantly. I thought this signified overfitting however this number of parameters consistently produced higher testing success.\n",
        "\n"
      ]
    },
    {
      "cell_type": "code",
      "metadata": {
        "id": "do1tdPV5FEFr"
      },
      "source": [
        "task = 1\n",
        "test_images, test_labels, test_nuenergy, test_lepenergy,test_interactions,test_fs = test_extractor(50,1)"
      ],
      "execution_count": null,
      "outputs": []
    },
    {
      "cell_type": "markdown",
      "metadata": {
        "id": "IeUn050B40L0"
      },
      "source": [
        "## Testing the model\n",
        "\n",
        "The model was tested on a randomly chosen file; the accuracy rarely went above 80%, the loss rarely lower than 0.33. The success of the model was hard to gauge, as the same exact model run twice on the same data had a test accuracy that varied sometimes by 4-5%. For this reason I created a loop (below) to run and test the model 10 times and obtain the average test accuracy."
      ]
    },
    {
      "cell_type": "code",
      "metadata": {
        "id": "j3bC2P_opfth",
        "colab": {
          "base_uri": "https://localhost:8080/"
        },
        "outputId": "f3c73525-b234-45cc-8d1e-0a54c2d752b7"
      },
      "source": [
        "xz_test, yz_test = image_separator(test_images)\n",
        "test_acc, test_loss = model.evaluate([xz_test, yz_test], \n",
        "                                     test_labels, verbose=2)"
      ],
      "execution_count": null,
      "outputs": [
        {
          "output_type": "stream",
          "text": [
            "221/221 - 1s - loss: 0.4107 - binary_accuracy: 0.7769\n"
          ],
          "name": "stdout"
        }
      ]
    },
    {
      "cell_type": "code",
      "metadata": {
        "colab": {
          "base_uri": "https://localhost:8080/"
        },
        "id": "xXevZS2waauX",
        "outputId": "00e5e67e-b736-495f-9f50-9f0eb26f20a1"
      },
      "source": [
        "acc = []\n",
        "loss = []\n",
        "for i in range(10):\n",
        "  xz_input=Input(shape=(100,80,1))\n",
        "  yz_input= Input(shape=(100,80,1))\n",
        "  xz_model = feature_extractor(xz_input) # feature extractor for xz images\n",
        "  yz_model = feature_extractor(yz_input) # feature extractor for yz images\n",
        "  conv = concatenate([xz_model, yz_model])\n",
        "  model = Flatten()(conv)\n",
        "  model = Dense(8, activation='relu')(model)\n",
        "  model = Dense(32, activation='relu')(model)\n",
        "  model = Dropout(0.3)(model)\n",
        "  output = Dense(1, activation='sigmoid')(model)\n",
        "  model = Model(inputs=[xz_input, yz_input], outputs=[output])\n",
        "  keras.backend.clear_session()\n",
        "  model.compile(optimizer='adam',\n",
        "                loss=tf.keras.losses.binary_crossentropy,\n",
        "                metrics=['binary_accuracy'])\n",
        "  history = model.fit([xz_train,yz_train], train_labels, epochs=25,\n",
        "                      validation_split=0.2,shuffle=True, verbose=0, \n",
        "                      batch_size=256, callbacks=early_stop)\n",
        "  test_acc, test_loss = model.evaluate([xz_test, yz_test], \n",
        "                                       test_labels, verbose=2)\n",
        "  # for some reason the loss and accuracy were switched around oddly\n",
        "  acc.append(test_loss)  \n",
        "  loss.append(test_acc)\n",
        "\n",
        "avg_acc, acc_error = np.mean(acc), np.std(acc)/np.sqrt(10)\n",
        "avg_loss, loss_error = np.mean(loss), np.std(loss)/np.sqrt(10)"
      ],
      "execution_count": null,
      "outputs": [
        {
          "output_type": "stream",
          "text": [
            "221/221 - 1s - loss: 0.4370 - binary_accuracy: 0.7239\n",
            "221/221 - 1s - loss: 0.3864 - binary_accuracy: 0.7804\n",
            "221/221 - 1s - loss: 0.4240 - binary_accuracy: 0.7597\n",
            "221/221 - 1s - loss: 0.3723 - binary_accuracy: 0.7909\n",
            "221/221 - 1s - loss: 0.3760 - binary_accuracy: 0.7884\n",
            "221/221 - 1s - loss: 0.4368 - binary_accuracy: 0.7430\n",
            "221/221 - 1s - loss: 0.4178 - binary_accuracy: 0.7721\n",
            "221/221 - 1s - loss: 0.4456 - binary_accuracy: 0.7406\n",
            "221/221 - 1s - loss: 0.3925 - binary_accuracy: 0.7704\n",
            "221/221 - 1s - loss: 0.3801 - binary_accuracy: 0.7930\n"
          ],
          "name": "stdout"
        }
      ]
    },
    {
      "cell_type": "code",
      "metadata": {
        "colab": {
          "base_uri": "https://localhost:8080/"
        },
        "id": "9bTn4SOX--8d",
        "outputId": "6a84592e-80b1-4c5f-b192-3d5ac2037711"
      },
      "source": [
        "print(\"the average test accuracy is {0:0.2f}\".format(avg_acc) , \n",
        "      \"with a standard error of {0:0.2f}\".format(acc_error))\n",
        "print(\"the average test loss is {0:0.2f}\".format(avg_loss) , \n",
        "      \"with a standard error of {0:0.2f}\".format(loss_error))\n"
      ],
      "execution_count": null,
      "outputs": [
        {
          "output_type": "stream",
          "text": [
            "the average test accuracy is 0.77 with a standard error of 0.01\n",
            "the average test loss is 0.41 with a standard error of 0.01\n"
          ],
          "name": "stdout"
        }
      ]
    },
    {
      "cell_type": "markdown",
      "metadata": {
        "id": "6pscmy_KkIzy"
      },
      "source": [
        "## Model success\n",
        "\n",
        "I would say this model definitely is partially successful. Ideally, a really good model would reach 90%+, but the training/validation graph definitely shows the model is indeed learning, however the lower accuracy might be linked to the quality of the data, as opposed to the model efficiency. This will be explored in task 2. "
      ]
    },
    {
      "cell_type": "markdown",
      "metadata": {
        "id": "yQxmXjYt7I3C"
      },
      "source": [
        "# **Task 2:** Testing model efficiency dependence on meta variables\n",
        "\n",
        "Below, I created 6 sub-testing sets to compare 3 metedata categories: \n",
        "\n",
        "\n",
        "1.   QE vs DIS events\n",
        "2.   High lepton energy vs low lepton energy\n",
        "3.   High neutrino energy vs low neutrino energy\n",
        "\n"
      ]
    },
    {
      "cell_type": "code",
      "metadata": {
        "colab": {
          "base_uri": "https://localhost:8080/",
          "height": 590
        },
        "id": "Jy2uKCKg81db",
        "outputId": "2c71bcc2-f8d3-43c9-d183-b71538fb448d"
      },
      "source": [
        "nuenergy=np.array(df['neutrino']['nuenergy'])\n",
        "lepenergy=np.array(df['neutrino']['lepenergy'])\n",
        "plt.figure()\n",
        "plt.hist(nuenergy)\n",
        "plt.xlabel(\"Neutrino energy values\")\n",
        "plt.ylabel(\"Number of data points\")\n",
        "plt.title(\"Neutrino energy distribution\")\n",
        "\n",
        "plt.figure()\n",
        "plt.hist(lepenergy,bins = 20)\n",
        "plt.xlabel(\"Lepton energy values\")\n",
        "plt.ylabel(\"Number of data points\")\n",
        "plt.title(\"Lepton energy distribution\")\n"
      ],
      "execution_count": null,
      "outputs": [
        {
          "output_type": "execute_result",
          "data": {
            "text/plain": [
              "Text(0.5, 1.0, 'Lepton energy distribution')"
            ]
          },
          "metadata": {
            "tags": []
          },
          "execution_count": 41
        },
        {
          "output_type": "display_data",
          "data": {
            "image/png": "[encoded data removed]",
            "text/plain": [
              "<Figure size 432x288 with 1 Axes>"
            ]
          },
          "metadata": {
            "tags": [],
            "needs_background": "light"
          }
        },
        {
          "output_type": "display_data",
          "data": {
            "image/png": "[encoded data removed]",
            "text/plain": [
              "<Figure size 432x288 with 1 Axes>"
            ]
          },
          "metadata": {
            "tags": [],
            "needs_background": "light"
          }
        }
      ]
    },
    {
      "cell_type": "markdown",
      "metadata": {
        "id": "y-fxZEazrqp6"
      },
      "source": [
        "## Creating test sets\n",
        "\n",
        "I did not create a test set for RES events as I wanted to compare two ends of the spectrum (QE vs DIS). As for comparing $E_{\\nu}$ values, I noticed that over 50% of the data had energy values of 16 GeV or less. To create a roughly fair split of \"high\" and \"low\" energy values, and as the highest energy was ~80 GeV, I decided to make the lower 50% of the data \"low\" and the other half of the data (> 16 GeV) in the \"high\" category. This means that the values that were 1/5 of the maximum energy value were in the low group. I did the same thing for the $E_{\\ell}$ categories, where the threshold for high values was 3.8 GeV."
      ]
    },
    {
      "cell_type": "code",
      "metadata": {
        "id": "_6ZhXX2FLc22"
      },
      "source": [
        "DIS,DIS_labels = [],[]\n",
        "QE,QE_labels = [],[]\n",
        "highnuenergy,highnuenergy_labels = [],[]\n",
        "lownuenergy,lownuenergy_labels = [],[]\n",
        "highlepenergy,highlepenergy_labels = [],[]\n",
        "lowlepenergy,lowlepenergy_labels = [],[]\n",
        "\n",
        "# creating mini test sets to analyse model efficiency based on metadata\n",
        "for i in range(len(test_images)):\n",
        "  if (test_interactions[i] == 0) or (test_interactions[i] == 4) or (test_interactions[i] == 8):\n",
        "    QE.append(test_images[i]) # appending only QE events/labels\n",
        "    QE_labels.append(1) if test_interactions[i] <= 3 \n",
        "    else QE_labels.append(0)\n",
        "\n",
        "  if (test_interactions[i] == 2) or (test_interactions[i] == 6) or (test_interactions[i] == 10):\n",
        "    DIS.append(test_images[i])\n",
        "    DIS_labels.append(1) if test_interactions[i] <= 3 \n",
        "    else DIS_labels.append(0)\n",
        "\n",
        "  if (test_nuenergy[i] <= np.max(test_nuenergy)/5):\n",
        "    lownuenergy.append(test_images[i])\n",
        "    lownuenergy_labels.append(1) if test_interactions[i] <= 3 \n",
        "    else lownuenergy_labels.append(0)\n",
        "\n",
        "  else:\n",
        "    highnuenergy.append(test_images[i])\n",
        "    highnuenergy_labels.append(1) if test_interactions[i] <= 3 \n",
        "    else highnuenergy_labels.append(0) \n",
        "\n",
        "  if (test_lepenergy[i] >= 3.8):\n",
        "    highlepenergy.append(test_images[i])\n",
        "    highlepenergy_labels.append(1) if test_interactions[i] <= 3 \n",
        "    else highlepenergy_labels.append(0)\n",
        "\n",
        "  else:\n",
        "    lowlepenergy.append(test_images[i])\n",
        "    lowlepenergy_labels.append(1) if test_interactions[i] <= 3 \n",
        "    else lowlepenergy_labels.append(0)\n",
        "\n",
        "QE_labels = np.array(QE_labels)\n",
        "DIS_labels = np.array(DIS_labels)\n",
        "highnuenergy_labels = np.array(highnuenergy_labels)\n",
        "lownuenergy_labels = np.array(lownuenergy_labels)\n",
        "highlepenergy_labels = np.array(highlepenergy_labels)\n",
        "lowlepenergy_labels = np.array(lowlepenergy_labels)"
      ],
      "execution_count": null,
      "outputs": []
    },
    {
      "cell_type": "code",
      "metadata": {
        "colab": {
          "base_uri": "https://localhost:8080/"
        },
        "id": "ougorDtDEkc-",
        "outputId": "44e30858-4feb-4926-fccd-507658456006"
      },
      "source": [
        "### QE ###\n",
        "\n",
        "QE_xz, QE_yz = image_separator(np.array(QE))\n",
        "test_acc, test_loss = model.evaluate([QE_xz, QE_yz], QE_labels, verbose=2)"
      ],
      "execution_count": null,
      "outputs": [
        {
          "output_type": "stream",
          "text": [
            "28/28 - 0s - loss: 0.2286 - binary_accuracy: 0.8862\n"
          ],
          "name": "stdout"
        }
      ]
    },
    {
      "cell_type": "code",
      "metadata": {
        "colab": {
          "base_uri": "https://localhost:8080/"
        },
        "id": "VzR2vwzVE2Gw",
        "outputId": "1f2a8843-c7ea-4d16-dfc6-4a5f20704637"
      },
      "source": [
        "### DIS ###\n",
        "\n",
        "DIS_xz, DIS_yz = image_separator(np.array(DIS))\n",
        "test_acc, test_loss = model.evaluate([DIS_xz, DIS_yz], \n",
        "                                     DIS_labels, verbose=2)"
      ],
      "execution_count": null,
      "outputs": [
        {
          "output_type": "stream",
          "text": [
            "124/124 - 0s - loss: 0.4651 - binary_accuracy: 0.7040\n"
          ],
          "name": "stdout"
        }
      ]
    },
    {
      "cell_type": "code",
      "metadata": {
        "colab": {
          "base_uri": "https://localhost:8080/"
        },
        "id": "ZsvKxPIi6tij",
        "outputId": "fa22938c-795a-4dcb-c053-69f8a4e00290"
      },
      "source": [
        "### high-nu energy ###\n",
        "\n",
        "highnuenergy_xz, highnuenergy_yz = image_separator(np.array(highnuenergy))\n",
        "test_acc, test_loss = model.evaluate([highnuenergy_xz, highnuenergy_yz], \n",
        "                                     highnuenergy_labels, verbose=2)"
      ],
      "execution_count": null,
      "outputs": [
        {
          "output_type": "stream",
          "text": [
            "59/59 - 0s - loss: 0.3814 - binary_accuracy: 0.7698\n"
          ],
          "name": "stdout"
        }
      ]
    },
    {
      "cell_type": "code",
      "metadata": {
        "colab": {
          "base_uri": "https://localhost:8080/"
        },
        "id": "LUmczoDE-F4B",
        "outputId": "f565bbe0-635b-4b4b-a327-f07311504567"
      },
      "source": [
        "### low nu energy ### \n",
        "\n",
        "lownuenergy_xz, lownuenergy_yz = image_separator(np.array(lownuenergy))\n",
        "test_acc, test_loss = model.evaluate([lownuenergy_xz, lownuenergy_yz], \n",
        "                                     lownuenergy_labels, verbose=2)"
      ],
      "execution_count": null,
      "outputs": [
        {
          "output_type": "stream",
          "text": [
            "163/163 - 0s - loss: 0.4189 - binary_accuracy: 0.7617\n"
          ],
          "name": "stdout"
        }
      ]
    },
    {
      "cell_type": "code",
      "metadata": {
        "colab": {
          "base_uri": "https://localhost:8080/"
        },
        "id": "XyZQuQMcYCYW",
        "outputId": "7a2bb39b-5571-42ec-e9db-65befadf8c5e"
      },
      "source": [
        "### high lepton energy ### \n",
        "\n",
        "highlepenergy_xz, highlepenergy_yz = image_separator(np.array(highlepenergy))\n",
        "test_acc, test_loss = model.evaluate([highlepenergy_xz, highlepenergy_yz], \n",
        "                                     highlepenergy_labels, verbose=2)"
      ],
      "execution_count": null,
      "outputs": [
        {
          "output_type": "stream",
          "text": [
            "107/107 - 0s - loss: 0.3056 - binary_accuracy: 0.8218\n"
          ],
          "name": "stdout"
        }
      ]
    },
    {
      "cell_type": "code",
      "metadata": {
        "colab": {
          "base_uri": "https://localhost:8080/"
        },
        "id": "8BVOtGh0YNJU",
        "outputId": "ca52266a-a213-4a86-88cf-ada2876df446"
      },
      "source": [
        "### low lepton energy\n",
        "\n",
        "lowlepenergy_xz, lowlepenergy_yz = image_separator(np.array(lowlepenergy))\n",
        "test_acc, test_loss = model.evaluate([lowlepenergy_xz, lowlepenergy_yz], \n",
        "                                     lowlepenergy_labels, verbose=2)"
      ],
      "execution_count": null,
      "outputs": [
        {
          "output_type": "stream",
          "text": [
            "115/115 - 0s - loss: 0.5048 - binary_accuracy: 0.7102\n"
          ],
          "name": "stdout"
        }
      ]
    },
    {
      "cell_type": "markdown",
      "metadata": {
        "id": "J7VZpHEV75So"
      },
      "source": [
        "## Analysis\n",
        "\n",
        "### QE vs. DIS events\n",
        "The QE events set had much higher accuracies over several runs (87%-91%) vs DIS (63%-70%). DIS events make up over half of the dataset compared to QE which makes up only ~12% so it makes sense that the overall accuracy of the model on an unprocessed test file is closer to the DIS accuracy range.  \n",
        "\n",
        "### High vs low neutrino energy\n",
        "\n",
        "There was no significant difference in model performance for this variable. This is possibly due to the neutrino's characteristic low mass and therefore low impact on interactions, meaning the images would remain largely unaffected by the neutrino energy. \n",
        "\n",
        "### High vs low lepton energy\n",
        "\n",
        "There was a significant difference in how the model performed for these two categories (high lepton energy was always at least 10% higher), possibly due to the fact that leptons are some of the heavier particles within these collisions (relative to neutrinos) so they can affect the interactions within the simulator. The model performed better on high lepton energy events, and as with the QE vs DIS events there is a much lower incidence of these events in the dataset, hence the lower overall accuracy. \n"
      ]
    },
    {
      "cell_type": "markdown",
      "metadata": {
        "id": "SKBXZKpmhg_l"
      },
      "source": [
        "# **Task 3:** Neutrino energy algorithm\n",
        "\n",
        "A regression model was created to find values for $\\nu$ energies. "
      ]
    },
    {
      "cell_type": "code",
      "metadata": {
        "id": "nXsfEJaEM2vT"
      },
      "source": [
        "task = 3\n",
        "train_images, train_labels = train_extractor(8)\n",
        "test_images, test_labels = test_extractor(11,1)\n",
        "xz_train, yz_train  = image_separator(train_images)\n",
        "xz_test, yz_test = image_separator(test_images)"
      ],
      "execution_count": null,
      "outputs": []
    },
    {
      "cell_type": "code",
      "metadata": {
        "id": "tTcssuFZTqw6",
        "colab": {
          "base_uri": "https://localhost:8080/"
        },
        "outputId": "1e3a1e00-ce30-44a6-c793-e86279f5552e"
      },
      "source": [
        "train_labels, test_labels = np.squeeze(train_labels), np.squeeze(test_labels)\n",
        "xz_input=Input(shape=(100,80,1))\n",
        "yz_input= Input(shape=(100,80,1))\n",
        "xz_model = feature_extractor(xz_input) # feature extractor for xz images\n",
        "yz_model = feature_extractor(yz_input) # feature extractor for yz images\n",
        "\n",
        "conv = concatenate([xz_model, yz_model])\n",
        "model = Flatten()(conv)\n",
        "model = Dense(42, activation='relu')(model)\n",
        "model = Dense(64, activation='relu')(model)\n",
        "model = Dropout(0.3)(model)\n",
        "output = Dense(1, activation='sigmoid')(model)\n",
        "model = Model(inputs=[xz_input, yz_input], outputs=[output])\n",
        "\n",
        "# summarize layers\n",
        "print(model.summary())\n",
        "# plot model\n",
        "#plot_model(model, to_file='convolutional_neural_network.png')"
      ],
      "execution_count": null,
      "outputs": [
        {
          "output_type": "stream",
          "text": [
            "Model: \"model\"\n",
            "__________________________________________________________________________________________________\n",
            "Layer (type)                    Output Shape         Param #     Connected to                     \n",
            "==================================================================================================\n",
            "input_1 (InputLayer)            [(None, 100, 80, 1)] 0                                            \n",
            "__________________________________________________________________________________________________\n",
            "input_2 (InputLayer)            [(None, 100, 80, 1)] 0                                            \n",
            "__________________________________________________________________________________________________\n",
            "conv2d (Conv2D)                 (None, 100, 80, 32)  160         input_1[0][0]                    \n",
            "__________________________________________________________________________________________________\n",
            "conv2d_3 (Conv2D)               (None, 100, 80, 32)  160         input_2[0][0]                    \n",
            "__________________________________________________________________________________________________\n",
            "max_pooling2d (MaxPooling2D)    (None, 34, 27, 32)   0           conv2d[0][0]                     \n",
            "__________________________________________________________________________________________________\n",
            "max_pooling2d_3 (MaxPooling2D)  (None, 34, 27, 32)   0           conv2d_3[0][0]                   \n",
            "__________________________________________________________________________________________________\n",
            "dropout (Dropout)               (None, 34, 27, 32)   0           max_pooling2d[0][0]              \n",
            "__________________________________________________________________________________________________\n",
            "dropout_2 (Dropout)             (None, 34, 27, 32)   0           max_pooling2d_3[0][0]            \n",
            "__________________________________________________________________________________________________\n",
            "conv2d_1 (Conv2D)               (None, 34, 27, 16)   2064        dropout[0][0]                    \n",
            "__________________________________________________________________________________________________\n",
            "conv2d_4 (Conv2D)               (None, 34, 27, 16)   2064        dropout_2[0][0]                  \n",
            "__________________________________________________________________________________________________\n",
            "max_pooling2d_1 (MaxPooling2D)  (None, 12, 9, 16)    0           conv2d_1[0][0]                   \n",
            "__________________________________________________________________________________________________\n",
            "max_pooling2d_4 (MaxPooling2D)  (None, 12, 9, 16)    0           conv2d_4[0][0]                   \n",
            "__________________________________________________________________________________________________\n",
            "dropout_1 (Dropout)             (None, 12, 9, 16)    0           max_pooling2d_1[0][0]            \n",
            "__________________________________________________________________________________________________\n",
            "dropout_3 (Dropout)             (None, 12, 9, 16)    0           max_pooling2d_4[0][0]            \n",
            "__________________________________________________________________________________________________\n",
            "conv2d_2 (Conv2D)               (None, 12, 9, 2)     130         dropout_1[0][0]                  \n",
            "__________________________________________________________________________________________________\n",
            "conv2d_5 (Conv2D)               (None, 12, 9, 2)     130         dropout_3[0][0]                  \n",
            "__________________________________________________________________________________________________\n",
            "max_pooling2d_2 (MaxPooling2D)  (None, 4, 3, 2)      0           conv2d_2[0][0]                   \n",
            "__________________________________________________________________________________________________\n",
            "max_pooling2d_5 (MaxPooling2D)  (None, 4, 3, 2)      0           conv2d_5[0][0]                   \n",
            "__________________________________________________________________________________________________\n",
            "flatten (Flatten)               (None, 24)           0           max_pooling2d_2[0][0]            \n",
            "__________________________________________________________________________________________________\n",
            "flatten_1 (Flatten)             (None, 24)           0           max_pooling2d_5[0][0]            \n",
            "__________________________________________________________________________________________________\n",
            "concatenate (Concatenate)       (None, 48)           0           flatten[0][0]                    \n",
            "                                                                 flatten_1[0][0]                  \n",
            "__________________________________________________________________________________________________\n",
            "flatten_2 (Flatten)             (None, 48)           0           concatenate[0][0]                \n",
            "__________________________________________________________________________________________________\n",
            "dense (Dense)                   (None, 42)           2058        flatten_2[0][0]                  \n",
            "__________________________________________________________________________________________________\n",
            "dense_1 (Dense)                 (None, 64)           2752        dense[0][0]                      \n",
            "__________________________________________________________________________________________________\n",
            "dropout_4 (Dropout)             (None, 64)           0           dense_1[0][0]                    \n",
            "__________________________________________________________________________________________________\n",
            "dense_2 (Dense)                 (None, 1)            65          dropout_4[0][0]                  \n",
            "==================================================================================================\n",
            "Total params: 9,583\n",
            "Trainable params: 9,583\n",
            "Non-trainable params: 0\n",
            "__________________________________________________________________________________________________\n",
            "None\n"
          ],
          "name": "stdout"
        }
      ]
    },
    {
      "cell_type": "code",
      "metadata": {
        "colab": {
          "base_uri": "https://localhost:8080/"
        },
        "id": "9nm5e5tiTz-M",
        "outputId": "ca826921-a14d-48d7-d065-d76d1d7950f4"
      },
      "source": [
        "# compiling the first model\n",
        "early_stop = tf.keras.callbacks.EarlyStopping(monitor = \"val_loss\", \n",
        "                                              mode = \"min\", patience=5, \n",
        "                                              restore_best_weights=True)\n",
        "keras.backend.clear_session()\n",
        "opt = tf.keras.optimizers.RMSprop()\n",
        "model.compile(optimizer=opt,\n",
        "              loss=tf.keras.losses.mse,\n",
        "              metrics=['mse'])\n",
        "history = model.fit([xz_train,yz_train], train_labels, epochs=50,\n",
        "                    validation_split=0.2,shuffle=True, batch_size=256, \n",
        "                    callbacks=early_stop)"
      ],
      "execution_count": null,
      "outputs": [
        {
          "output_type": "stream",
          "text": [
            "Epoch 1/50\n",
            "174/174 [==============================] - 12s 63ms/step - loss: 0.0500 - mse: 0.0457 - val_loss: 0.0157 - val_mse: 0.0128\n",
            "Epoch 2/50\n",
            "174/174 [==============================] - 10s 60ms/step - loss: 0.0155 - mse: 0.0130 - val_loss: 0.0138 - val_mse: 0.0122\n",
            "Epoch 3/50\n",
            "174/174 [==============================] - 10s 60ms/step - loss: 0.0132 - mse: 0.0119 - val_loss: 0.0122 - val_mse: 0.0114\n",
            "Epoch 4/50\n",
            "174/174 [==============================] - 10s 60ms/step - loss: 0.0122 - mse: 0.0115 - val_loss: 0.0121 - val_mse: 0.0117\n",
            "Epoch 5/50\n",
            "174/174 [==============================] - 10s 60ms/step - loss: 0.0117 - mse: 0.0112 - val_loss: 0.0112 - val_mse: 0.0109\n",
            "Epoch 6/50\n",
            "174/174 [==============================] - 10s 60ms/step - loss: 0.0116 - mse: 0.0113 - val_loss: 0.0109 - val_mse: 0.0107\n",
            "Epoch 7/50\n",
            "174/174 [==============================] - 10s 60ms/step - loss: 0.0109 - mse: 0.0107 - val_loss: 0.0106 - val_mse: 0.0104\n",
            "Epoch 8/50\n",
            "174/174 [==============================] - 10s 60ms/step - loss: 0.0112 - mse: 0.0110 - val_loss: 0.0107 - val_mse: 0.0105\n",
            "Epoch 9/50\n",
            "174/174 [==============================] - 10s 59ms/step - loss: 0.0109 - mse: 0.0107 - val_loss: 0.0108 - val_mse: 0.0106\n",
            "Epoch 10/50\n",
            "174/174 [==============================] - 10s 59ms/step - loss: 0.0111 - mse: 0.0109 - val_loss: 0.0110 - val_mse: 0.0108\n",
            "Epoch 11/50\n",
            "174/174 [==============================] - 10s 60ms/step - loss: 0.0110 - mse: 0.0109 - val_loss: 0.0109 - val_mse: 0.0108\n",
            "Epoch 12/50\n",
            "174/174 [==============================] - 10s 60ms/step - loss: 0.0108 - mse: 0.0107 - val_loss: 0.0103 - val_mse: 0.0101\n",
            "Epoch 13/50\n",
            "174/174 [==============================] - 10s 59ms/step - loss: 0.0109 - mse: 0.0107 - val_loss: 0.0104 - val_mse: 0.0102\n",
            "Epoch 14/50\n",
            "174/174 [==============================] - 10s 59ms/step - loss: 0.0108 - mse: 0.0107 - val_loss: 0.0102 - val_mse: 0.0100\n",
            "Epoch 15/50\n",
            "174/174 [==============================] - 10s 59ms/step - loss: 0.0107 - mse: 0.0105 - val_loss: 0.0103 - val_mse: 0.0101\n",
            "Epoch 16/50\n",
            "174/174 [==============================] - 10s 60ms/step - loss: 0.0105 - mse: 0.0103 - val_loss: 0.0104 - val_mse: 0.0102\n",
            "Epoch 17/50\n",
            "174/174 [==============================] - 10s 59ms/step - loss: 0.0106 - mse: 0.0104 - val_loss: 0.0102 - val_mse: 0.0100\n",
            "Epoch 18/50\n",
            "174/174 [==============================] - 10s 59ms/step - loss: 0.0105 - mse: 0.0103 - val_loss: 0.0105 - val_mse: 0.0104\n",
            "Epoch 19/50\n",
            "174/174 [==============================] - 10s 60ms/step - loss: 0.0107 - mse: 0.0106 - val_loss: 0.0105 - val_mse: 0.0104\n",
            "Epoch 20/50\n",
            "174/174 [==============================] - 10s 59ms/step - loss: 0.0107 - mse: 0.0105 - val_loss: 0.0104 - val_mse: 0.0103\n",
            "Epoch 21/50\n",
            "174/174 [==============================] - 10s 59ms/step - loss: 0.0104 - mse: 0.0102 - val_loss: 0.0102 - val_mse: 0.0100\n",
            "Epoch 22/50\n",
            "174/174 [==============================] - 10s 59ms/step - loss: 0.0103 - mse: 0.0102 - val_loss: 0.0103 - val_mse: 0.0101\n"
          ],
          "name": "stdout"
        }
      ]
    },
    {
      "cell_type": "code",
      "metadata": {
        "colab": {
          "base_uri": "https://localhost:8080/",
          "height": 312
        },
        "id": "PDcwYxDkmB9v",
        "outputId": "5940902c-de8e-458c-b213-aa82799ff013"
      },
      "source": [
        "# we plot the accuracies of the trained model on the same graph \n",
        "# as the test data accuracy\n",
        "plt.figure()\n",
        "plt.plot(history.history['mse'], label='Training accuracy')\n",
        "plt.plot(history.history['val_mse'], label = 'Test accuracy')\n",
        "plt.xlabel('Epoch')\n",
        "plt.ylabel('Mean squared error')\n",
        "plt.legend(loc='best')\n",
        "plt.title(\"Comparing the accuracies and losses of the validation and trained data for a CC event classifier\")\n"
      ],
      "execution_count": null,
      "outputs": [
        {
          "output_type": "execute_result",
          "data": {
            "text/plain": [
              "Text(0.5, 1.0, 'Comparing the accuracies and losses of the validation and trained data for a CC event classifier')"
            ]
          },
          "metadata": {
            "tags": []
          },
          "execution_count": 76
        },
        {
          "output_type": "display_data",
          "data": {
            "image/png": "[encoded data removed]",
            "text/plain": [
              "<Figure size 432x288 with 1 Axes>"
            ]
          },
          "metadata": {
            "tags": [],
            "needs_background": "light"
          }
        }
      ]
    },
    {
      "cell_type": "code",
      "metadata": {
        "colab": {
          "base_uri": "https://localhost:8080/",
          "height": 312
        },
        "id": "qxV6JYVLtcTH",
        "outputId": "3f66375a-cbfe-4abd-aed8-55dce49ee6a3"
      },
      "source": [
        "plt.figure()\n",
        "plt.plot(history.history['loss'], label='Training loss')\n",
        "plt.plot(history.history['val_loss'], label='Test loss')\n",
        "plt.xlabel('Epoch')\n",
        "plt.ylabel('Loss')\n",
        "plt.legend(loc='best')\n",
        "plt.title(\"Comparing the accuracies and losses of the validation and trained data for a CC event classifier\")\n"
      ],
      "execution_count": null,
      "outputs": [
        {
          "output_type": "execute_result",
          "data": {
            "text/plain": [
              "Text(0.5, 1.0, 'Comparing the accuracies and losses of the validation and trained data for a CC event classifier')"
            ]
          },
          "metadata": {
            "tags": []
          },
          "execution_count": 78
        },
        {
          "output_type": "display_data",
          "data": {
            "image/png": "[encoded data removed]",
            "text/plain": [
              "<Figure size 432x288 with 1 Axes>"
            ]
          },
          "metadata": {
            "tags": [],
            "needs_background": "light"
          }
        }
      ]
    },
    {
      "cell_type": "markdown",
      "metadata": {
        "id": "Bg7vEtKUT1Ab"
      },
      "source": [
        "# **Task 4:**  $\\nu$ flavour classifier\n",
        "\n",
        "As was seen previously, there are no $\\nu_\\tau$ events in any of the data files. For my model, I did not consider interactions of type \"other\" to be a flavour catergory; this means that once again it will be easier to create a binary classifier to differentiate between $\\nu_\\mu$ and $\\nu_e$ events.\n",
        "\n",
        "### Skewed data\n",
        "\n",
        "As with the first task, the data is also heavily skewed with electron neutrino events making up 2% of the dataset. The same downsampling process was applied to this data, too. "
      ]
    },
    {
      "cell_type": "code",
      "metadata": {
        "id": "jwEFjQWwow02"
      },
      "source": [
        "########\n",
        "task = 4\n",
        "########\n",
        "\n",
        "train_images, train_labels = train_extractor(46)\n",
        "test_images, test_labels = test_extractor(60,1)\n",
        "xz_train, yz_train  = image_separator(train_images)\n",
        "xz_test, yz_test = image_separator(test_images)"
      ],
      "execution_count": null,
      "outputs": []
    },
    {
      "cell_type": "code",
      "metadata": {
        "colab": {
          "base_uri": "https://localhost:8080/"
        },
        "id": "Fs1qGclIuceF",
        "outputId": "84d98bf2-13b3-4926-e133-37d27b505196"
      },
      "source": [
        "xz_input = Input(shape=(100,80,1))\n",
        "xz_model = feature_extractor(xz_input) # feature extractor for xz images\n",
        "yz_input = Input(shape=(100,80,1))\n",
        "yz_model = feature_extractor(yz_input) # feature extractor for yz images\n",
        "\n",
        "conv = concatenate([xz_model, yz_model])\n",
        "dense = Dense(8, activation='relu')(conv)\n",
        "dense = Dense(32, activation='relu')(dense)\n",
        "dense = Dropout(0.5)(dense)\n",
        "output = Dense(1, activation='sigmoid')(dense)\n",
        "model = Model(inputs=[xz_input, yz_input], outputs=[output])\n",
        "\n",
        "# summarize layers\n",
        "print(model.summary())\n",
        "# plot model\n",
        "#plot_model(model, to_file='convolutional_neural_network.png')"
      ],
      "execution_count": null,
      "outputs": [
        {
          "output_type": "stream",
          "text": [
            "Model: \"model\"\n",
            "__________________________________________________________________________________________________\n",
            "Layer (type)                    Output Shape         Param #     Connected to                     \n",
            "==================================================================================================\n",
            "input_1 (InputLayer)            [(None, 100, 80, 1)] 0                                            \n",
            "__________________________________________________________________________________________________\n",
            "input_2 (InputLayer)            [(None, 100, 80, 1)] 0                                            \n",
            "__________________________________________________________________________________________________\n",
            "conv2d (Conv2D)                 (None, 100, 80, 32)  160         input_1[0][0]                    \n",
            "__________________________________________________________________________________________________\n",
            "conv2d_3 (Conv2D)               (None, 100, 80, 32)  160         input_2[0][0]                    \n",
            "__________________________________________________________________________________________________\n",
            "max_pooling2d (MaxPooling2D)    (None, 34, 27, 32)   0           conv2d[0][0]                     \n",
            "__________________________________________________________________________________________________\n",
            "max_pooling2d_3 (MaxPooling2D)  (None, 34, 27, 32)   0           conv2d_3[0][0]                   \n",
            "__________________________________________________________________________________________________\n",
            "dropout (Dropout)               (None, 34, 27, 32)   0           max_pooling2d[0][0]              \n",
            "__________________________________________________________________________________________________\n",
            "dropout_2 (Dropout)             (None, 34, 27, 32)   0           max_pooling2d_3[0][0]            \n",
            "__________________________________________________________________________________________________\n",
            "conv2d_1 (Conv2D)               (None, 34, 27, 16)   2064        dropout[0][0]                    \n",
            "__________________________________________________________________________________________________\n",
            "conv2d_4 (Conv2D)               (None, 34, 27, 16)   2064        dropout_2[0][0]                  \n",
            "__________________________________________________________________________________________________\n",
            "max_pooling2d_1 (MaxPooling2D)  (None, 12, 9, 16)    0           conv2d_1[0][0]                   \n",
            "__________________________________________________________________________________________________\n",
            "max_pooling2d_4 (MaxPooling2D)  (None, 12, 9, 16)    0           conv2d_4[0][0]                   \n",
            "__________________________________________________________________________________________________\n",
            "dropout_1 (Dropout)             (None, 12, 9, 16)    0           max_pooling2d_1[0][0]            \n",
            "__________________________________________________________________________________________________\n",
            "dropout_3 (Dropout)             (None, 12, 9, 16)    0           max_pooling2d_4[0][0]            \n",
            "__________________________________________________________________________________________________\n",
            "conv2d_2 (Conv2D)               (None, 12, 9, 2)     130         dropout_1[0][0]                  \n",
            "__________________________________________________________________________________________________\n",
            "conv2d_5 (Conv2D)               (None, 12, 9, 2)     130         dropout_3[0][0]                  \n",
            "__________________________________________________________________________________________________\n",
            "max_pooling2d_2 (MaxPooling2D)  (None, 4, 3, 2)      0           conv2d_2[0][0]                   \n",
            "__________________________________________________________________________________________________\n",
            "max_pooling2d_5 (MaxPooling2D)  (None, 4, 3, 2)      0           conv2d_5[0][0]                   \n",
            "__________________________________________________________________________________________________\n",
            "flatten (Flatten)               (None, 24)           0           max_pooling2d_2[0][0]            \n",
            "__________________________________________________________________________________________________\n",
            "flatten_1 (Flatten)             (None, 24)           0           max_pooling2d_5[0][0]            \n",
            "__________________________________________________________________________________________________\n",
            "concatenate (Concatenate)       (None, 48)           0           flatten[0][0]                    \n",
            "                                                                 flatten_1[0][0]                  \n",
            "__________________________________________________________________________________________________\n",
            "dense (Dense)                   (None, 8)            392         concatenate[0][0]                \n",
            "__________________________________________________________________________________________________\n",
            "dense_1 (Dense)                 (None, 32)           288         dense[0][0]                      \n",
            "__________________________________________________________________________________________________\n",
            "dropout_4 (Dropout)             (None, 32)           0           dense_1[0][0]                    \n",
            "__________________________________________________________________________________________________\n",
            "dense_2 (Dense)                 (None, 1)            33          dropout_4[0][0]                  \n",
            "==================================================================================================\n",
            "Total params: 5,421\n",
            "Trainable params: 5,421\n",
            "Non-trainable params: 0\n",
            "__________________________________________________________________________________________________\n",
            "None\n"
          ],
          "name": "stdout"
        }
      ]
    },
    {
      "cell_type": "code",
      "metadata": {
        "colab": {
          "base_uri": "https://localhost:8080/"
        },
        "id": "dP2T10hbXieK",
        "outputId": "8471375c-f6b5-4b36-8fed-b758399a8170"
      },
      "source": [
        "# compiling the model\n",
        "early_stop = tf.keras.callbacks.EarlyStopping(monitor = \"val_loss\", \n",
        "                                              mode = \"min\", \n",
        "                                              patience=5, \n",
        "                                              restore_best_weights=True)\n",
        "keras.backend.clear_session()\n",
        "model.compile(optimizer='adam',\n",
        "              loss=tf.keras.losses.binary_crossentropy,\n",
        "              metrics=['binary_accuracy'])\n",
        "history = model.fit([xz_train,yz_train], train_labels, epochs=60,\n",
        "                    validation_split=0.2,shuffle=True, batch_size=256, \n",
        "                    callbacks=early_stop)"
      ],
      "execution_count": null,
      "outputs": [
        {
          "output_type": "stream",
          "text": [
            "Epoch 1/60\n",
            "25/25 [==============================] - 10s 89ms/step - loss: 0.7972 - binary_accuracy: 0.5029 - val_loss: 0.6880 - val_binary_accuracy: 0.5879\n",
            "Epoch 2/60\n",
            "25/25 [==============================] - 1s 59ms/step - loss: 0.6959 - binary_accuracy: 0.5210 - val_loss: 0.6664 - val_binary_accuracy: 0.5999\n",
            "Epoch 3/60\n",
            "25/25 [==============================] - 1s 59ms/step - loss: 0.6773 - binary_accuracy: 0.5555 - val_loss: 0.6481 - val_binary_accuracy: 0.6570\n",
            "Epoch 4/60\n",
            "25/25 [==============================] - 1s 60ms/step - loss: 0.6637 - binary_accuracy: 0.6138 - val_loss: 0.6274 - val_binary_accuracy: 0.6960\n",
            "Epoch 5/60\n",
            "25/25 [==============================] - 1s 59ms/step - loss: 0.6480 - binary_accuracy: 0.6214 - val_loss: 0.6114 - val_binary_accuracy: 0.6985\n",
            "Epoch 6/60\n",
            "25/25 [==============================] - 1s 59ms/step - loss: 0.6250 - binary_accuracy: 0.6440 - val_loss: 0.5933 - val_binary_accuracy: 0.7054\n",
            "Epoch 7/60\n",
            "25/25 [==============================] - 1s 59ms/step - loss: 0.6141 - binary_accuracy: 0.6712 - val_loss: 0.5842 - val_binary_accuracy: 0.7048\n",
            "Epoch 8/60\n",
            "25/25 [==============================] - 1s 60ms/step - loss: 0.6138 - binary_accuracy: 0.6801 - val_loss: 0.5781 - val_binary_accuracy: 0.7098\n",
            "Epoch 9/60\n",
            "25/25 [==============================] - 1s 59ms/step - loss: 0.6058 - binary_accuracy: 0.6874 - val_loss: 0.5737 - val_binary_accuracy: 0.7104\n",
            "Epoch 10/60\n",
            "25/25 [==============================] - 1s 60ms/step - loss: 0.5931 - binary_accuracy: 0.6871 - val_loss: 0.5657 - val_binary_accuracy: 0.7142\n",
            "Epoch 11/60\n",
            "25/25 [==============================] - 1s 59ms/step - loss: 0.5898 - binary_accuracy: 0.6979 - val_loss: 0.5534 - val_binary_accuracy: 0.7236\n",
            "Epoch 12/60\n",
            "25/25 [==============================] - 1s 60ms/step - loss: 0.5847 - binary_accuracy: 0.6987 - val_loss: 0.5509 - val_binary_accuracy: 0.7255\n",
            "Epoch 13/60\n",
            "25/25 [==============================] - 1s 59ms/step - loss: 0.5852 - binary_accuracy: 0.6936 - val_loss: 0.5565 - val_binary_accuracy: 0.7198\n",
            "Epoch 14/60\n",
            "25/25 [==============================] - 1s 59ms/step - loss: 0.5741 - binary_accuracy: 0.7043 - val_loss: 0.5568 - val_binary_accuracy: 0.7129\n",
            "Epoch 15/60\n",
            "25/25 [==============================] - 2s 64ms/step - loss: 0.5755 - binary_accuracy: 0.7006 - val_loss: 0.5411 - val_binary_accuracy: 0.7198\n",
            "Epoch 16/60\n",
            "25/25 [==============================] - 1s 60ms/step - loss: 0.5695 - binary_accuracy: 0.6982 - val_loss: 0.5354 - val_binary_accuracy: 0.7274\n",
            "Epoch 17/60\n",
            "25/25 [==============================] - 1s 60ms/step - loss: 0.5619 - binary_accuracy: 0.7043 - val_loss: 0.5293 - val_binary_accuracy: 0.7261\n",
            "Epoch 18/60\n",
            "25/25 [==============================] - 1s 59ms/step - loss: 0.5515 - binary_accuracy: 0.7091 - val_loss: 0.5260 - val_binary_accuracy: 0.7299\n",
            "Epoch 19/60\n",
            "25/25 [==============================] - 1s 59ms/step - loss: 0.5556 - binary_accuracy: 0.7103 - val_loss: 0.5132 - val_binary_accuracy: 0.7387\n",
            "Epoch 20/60\n",
            "25/25 [==============================] - 1s 59ms/step - loss: 0.5624 - binary_accuracy: 0.7016 - val_loss: 0.5146 - val_binary_accuracy: 0.7381\n",
            "Epoch 21/60\n",
            "25/25 [==============================] - 1s 59ms/step - loss: 0.5363 - binary_accuracy: 0.7187 - val_loss: 0.5121 - val_binary_accuracy: 0.7513\n",
            "Epoch 22/60\n",
            "25/25 [==============================] - 1s 60ms/step - loss: 0.5549 - binary_accuracy: 0.7105 - val_loss: 0.5046 - val_binary_accuracy: 0.7638\n",
            "Epoch 23/60\n",
            "25/25 [==============================] - 1s 59ms/step - loss: 0.5413 - binary_accuracy: 0.7267 - val_loss: 0.4961 - val_binary_accuracy: 0.7638\n",
            "Epoch 24/60\n",
            "25/25 [==============================] - 1s 60ms/step - loss: 0.5183 - binary_accuracy: 0.7390 - val_loss: 0.4851 - val_binary_accuracy: 0.7701\n",
            "Epoch 25/60\n",
            "25/25 [==============================] - 1s 59ms/step - loss: 0.5139 - binary_accuracy: 0.7372 - val_loss: 0.4883 - val_binary_accuracy: 0.7726\n",
            "Epoch 26/60\n",
            "25/25 [==============================] - 1s 59ms/step - loss: 0.5203 - binary_accuracy: 0.7390 - val_loss: 0.4827 - val_binary_accuracy: 0.7720\n",
            "Epoch 27/60\n",
            "25/25 [==============================] - 1s 60ms/step - loss: 0.5187 - binary_accuracy: 0.7424 - val_loss: 0.4769 - val_binary_accuracy: 0.7751\n",
            "Epoch 28/60\n",
            "25/25 [==============================] - 1s 59ms/step - loss: 0.5105 - binary_accuracy: 0.7506 - val_loss: 0.4710 - val_binary_accuracy: 0.7783\n",
            "Epoch 29/60\n",
            "25/25 [==============================] - 1s 59ms/step - loss: 0.5056 - binary_accuracy: 0.7501 - val_loss: 0.4746 - val_binary_accuracy: 0.7770\n",
            "Epoch 30/60\n",
            "25/25 [==============================] - 1s 60ms/step - loss: 0.5037 - binary_accuracy: 0.7510 - val_loss: 0.4722 - val_binary_accuracy: 0.7732\n",
            "Epoch 31/60\n",
            "25/25 [==============================] - 1s 59ms/step - loss: 0.5012 - binary_accuracy: 0.7460 - val_loss: 0.4690 - val_binary_accuracy: 0.7758\n",
            "Epoch 32/60\n",
            "25/25 [==============================] - 1s 60ms/step - loss: 0.5108 - binary_accuracy: 0.7468 - val_loss: 0.4705 - val_binary_accuracy: 0.7814\n",
            "Epoch 33/60\n",
            "25/25 [==============================] - 1s 60ms/step - loss: 0.5037 - binary_accuracy: 0.7494 - val_loss: 0.4653 - val_binary_accuracy: 0.7833\n",
            "Epoch 34/60\n",
            "25/25 [==============================] - 1s 60ms/step - loss: 0.4950 - binary_accuracy: 0.7538 - val_loss: 0.4635 - val_binary_accuracy: 0.7802\n",
            "Epoch 35/60\n",
            "25/25 [==============================] - 1s 60ms/step - loss: 0.4887 - binary_accuracy: 0.7548 - val_loss: 0.4655 - val_binary_accuracy: 0.7783\n",
            "Epoch 36/60\n",
            "25/25 [==============================] - 2s 61ms/step - loss: 0.4874 - binary_accuracy: 0.7565 - val_loss: 0.4615 - val_binary_accuracy: 0.7839\n",
            "Epoch 37/60\n",
            "25/25 [==============================] - 1s 60ms/step - loss: 0.4779 - binary_accuracy: 0.7663 - val_loss: 0.4551 - val_binary_accuracy: 0.7852\n",
            "Epoch 38/60\n",
            "25/25 [==============================] - 1s 60ms/step - loss: 0.4936 - binary_accuracy: 0.7630 - val_loss: 0.4581 - val_binary_accuracy: 0.7858\n",
            "Epoch 39/60\n",
            "25/25 [==============================] - 1s 59ms/step - loss: 0.4872 - binary_accuracy: 0.7570 - val_loss: 0.4561 - val_binary_accuracy: 0.7814\n",
            "Epoch 40/60\n",
            "25/25 [==============================] - 1s 60ms/step - loss: 0.4840 - binary_accuracy: 0.7689 - val_loss: 0.4531 - val_binary_accuracy: 0.7820\n",
            "Epoch 41/60\n",
            "25/25 [==============================] - 1s 60ms/step - loss: 0.4774 - binary_accuracy: 0.7705 - val_loss: 0.4546 - val_binary_accuracy: 0.7889\n",
            "Epoch 42/60\n",
            "25/25 [==============================] - 1s 60ms/step - loss: 0.4787 - binary_accuracy: 0.7613 - val_loss: 0.4553 - val_binary_accuracy: 0.7845\n",
            "Epoch 43/60\n",
            "25/25 [==============================] - 1s 60ms/step - loss: 0.4744 - binary_accuracy: 0.7655 - val_loss: 0.4503 - val_binary_accuracy: 0.7871\n",
            "Epoch 44/60\n",
            "25/25 [==============================] - 1s 60ms/step - loss: 0.4687 - binary_accuracy: 0.7698 - val_loss: 0.4523 - val_binary_accuracy: 0.7820\n",
            "Epoch 45/60\n",
            "25/25 [==============================] - 1s 59ms/step - loss: 0.4943 - binary_accuracy: 0.7469 - val_loss: 0.4532 - val_binary_accuracy: 0.7858\n",
            "Epoch 46/60\n",
            "25/25 [==============================] - 1s 60ms/step - loss: 0.4787 - binary_accuracy: 0.7634 - val_loss: 0.4526 - val_binary_accuracy: 0.7845\n",
            "Epoch 47/60\n",
            "25/25 [==============================] - 1s 60ms/step - loss: 0.4784 - binary_accuracy: 0.7670 - val_loss: 0.4457 - val_binary_accuracy: 0.7889\n",
            "Epoch 48/60\n",
            "25/25 [==============================] - 2s 60ms/step - loss: 0.4695 - binary_accuracy: 0.7636 - val_loss: 0.4491 - val_binary_accuracy: 0.7814\n",
            "Epoch 49/60\n",
            "25/25 [==============================] - 1s 60ms/step - loss: 0.4722 - binary_accuracy: 0.7709 - val_loss: 0.4476 - val_binary_accuracy: 0.7852\n",
            "Epoch 50/60\n",
            "25/25 [==============================] - 1s 59ms/step - loss: 0.4682 - binary_accuracy: 0.7838 - val_loss: 0.4440 - val_binary_accuracy: 0.7858\n",
            "Epoch 51/60\n",
            "25/25 [==============================] - 1s 60ms/step - loss: 0.4701 - binary_accuracy: 0.7670 - val_loss: 0.4446 - val_binary_accuracy: 0.7864\n",
            "Epoch 52/60\n",
            "25/25 [==============================] - 1s 60ms/step - loss: 0.4656 - binary_accuracy: 0.7727 - val_loss: 0.4404 - val_binary_accuracy: 0.7908\n",
            "Epoch 53/60\n",
            "25/25 [==============================] - 1s 60ms/step - loss: 0.4745 - binary_accuracy: 0.7683 - val_loss: 0.4426 - val_binary_accuracy: 0.7933\n",
            "Epoch 54/60\n",
            "25/25 [==============================] - 2s 61ms/step - loss: 0.4581 - binary_accuracy: 0.7775 - val_loss: 0.4393 - val_binary_accuracy: 0.7921\n",
            "Epoch 55/60\n",
            "25/25 [==============================] - 2s 61ms/step - loss: 0.4571 - binary_accuracy: 0.7792 - val_loss: 0.4471 - val_binary_accuracy: 0.7902\n",
            "Epoch 56/60\n",
            "25/25 [==============================] - 1s 60ms/step - loss: 0.4486 - binary_accuracy: 0.7786 - val_loss: 0.4392 - val_binary_accuracy: 0.7896\n",
            "Epoch 57/60\n",
            "25/25 [==============================] - 1s 60ms/step - loss: 0.4702 - binary_accuracy: 0.7723 - val_loss: 0.4421 - val_binary_accuracy: 0.7908\n",
            "Epoch 58/60\n",
            "25/25 [==============================] - 1s 60ms/step - loss: 0.4648 - binary_accuracy: 0.7756 - val_loss: 0.4419 - val_binary_accuracy: 0.7871\n",
            "Epoch 59/60\n",
            "25/25 [==============================] - 2s 60ms/step - loss: 0.4674 - binary_accuracy: 0.7664 - val_loss: 0.4396 - val_binary_accuracy: 0.7858\n",
            "Epoch 60/60\n",
            "25/25 [==============================] - 1s 60ms/step - loss: 0.4605 - binary_accuracy: 0.7789 - val_loss: 0.4379 - val_binary_accuracy: 0.7871\n"
          ],
          "name": "stdout"
        }
      ]
    },
    {
      "cell_type": "code",
      "metadata": {
        "colab": {
          "base_uri": "https://localhost:8080/",
          "height": 312
        },
        "id": "3axKAPBkXngH",
        "outputId": "fcedd96e-365a-4087-b484-28e99515eac7"
      },
      "source": [
        "# we plot the accuracies of the trained model on the same graph \n",
        "# as the test data accuracy\n",
        "plt.figure()\n",
        "plt.plot(history.history['binary_accuracy'], label='Training accuracy')\n",
        "plt.plot(history.history['val_binary_accuracy'], label = 'Validation accuracy')\n",
        "plt.xlabel('Epoch')\n",
        "plt.ylabel('Accuracy')\n",
        "plt.legend(loc='best')\n",
        "plt.title(\"Comparing the accuracies of the validation and trained data for a neutrino flavour classifier\")\n"
      ],
      "execution_count": null,
      "outputs": [
        {
          "output_type": "execute_result",
          "data": {
            "text/plain": [
              "Text(0.5, 1.0, 'Comparing the accuracies of the validation and trained data for a neutrino flavour classifier')"
            ]
          },
          "metadata": {
            "tags": []
          },
          "execution_count": 10
        },
        {
          "output_type": "display_data",
          "data": {
            "image/png": "[encoded data removed]",
            "text/plain": [
              "<Figure size 432x288 with 1 Axes>"
            ]
          },
          "metadata": {
            "tags": [],
            "needs_background": "light"
          }
        }
      ]
    },
    {
      "cell_type": "code",
      "metadata": {
        "colab": {
          "base_uri": "https://localhost:8080/",
          "height": 312
        },
        "id": "Pnr6iGfvOj3h",
        "outputId": "1440ca59-9607-46c0-fc9c-3534f627574d"
      },
      "source": [
        "plt.figure()\n",
        "plt.plot(history.history['loss'], label='Training loss')\n",
        "plt.plot(history.history['val_loss'], label='Validation loss')\n",
        "plt.xlabel('Epoch')\n",
        "plt.ylabel('Loss')\n",
        "plt.legend(loc='best')\n",
        "plt.title(\"Comparing the losses of the validation and trained data for a neutrino flavour classifier\")\n"
      ],
      "execution_count": null,
      "outputs": [
        {
          "output_type": "execute_result",
          "data": {
            "text/plain": [
              "Text(0.5, 1.0, 'Comparing the losses of the validation and trained data for a neutrino flavour classifier')"
            ]
          },
          "metadata": {
            "tags": []
          },
          "execution_count": 11
        },
        {
          "output_type": "display_data",
          "data": {
            "image/png": "[encoded data removed]",
            "text/plain": [
              "<Figure size 432x288 with 1 Axes>"
            ]
          },
          "metadata": {
            "tags": [],
            "needs_background": "light"
          }
        }
      ]
    },
    {
      "cell_type": "code",
      "metadata": {
        "colab": {
          "base_uri": "https://localhost:8080/"
        },
        "id": "_MkVUg68jnbO",
        "outputId": "e0e4d9cd-f6e4-40b4-8805-35dbe4c4a204"
      },
      "source": [
        "test_acc, test_loss = model.evaluate([xz_test, yz_test], test_labels, verbose=2)"
      ],
      "execution_count": null,
      "outputs": [
        {
          "output_type": "stream",
          "text": [
            "198/198 - 1s - loss: 0.4632 - binary_accuracy: 0.6817\n"
          ],
          "name": "stdout"
        }
      ]
    },
    {
      "cell_type": "code",
      "metadata": {
        "colab": {
          "base_uri": "https://localhost:8080/"
        },
        "id": "1VZjV8jFkk7L",
        "outputId": "5f5e11ef-1fff-4dcc-b110-d4719efc0524"
      },
      "source": [
        "acc = []\n",
        "loss = []\n",
        "for i in range(10):\n",
        "  xz_input=Input(shape=(100,80,1))\n",
        "  yz_input= Input(shape=(100,80,1))\n",
        "  xz_model = feature_extractor(xz_input) # feature extractor for xz images\n",
        "  yz_model = feature_extractor(yz_input) # feature extractor for yz images\n",
        "  conv = concatenate([xz_model, yz_model])\n",
        "  dense = Dense(8, activation='relu')(conv)\n",
        "  dense = Dense(32, activation='relu')(dense)\n",
        "  dense = Dropout(0.5)(dense)\n",
        "  output = Dense(1, activation='sigmoid')(dense)\n",
        "  model = Model(inputs=[xz_input, yz_input], outputs=[output])\n",
        "  keras.backend.clear_session()\n",
        "  model.compile(optimizer='adam',\n",
        "                loss=tf.keras.losses.binary_crossentropy,\n",
        "                metrics=['binary_accuracy'])\n",
        "  history = model.fit([xz_train,yz_train], train_labels, epochs=20,\n",
        "                      validation_split=0.2,shuffle=True, verbose=0, \n",
        "                      batch_size=256, callbacks=early_stop)\n",
        "  test_acc, test_loss = model.evaluate([xz_test, yz_test], \n",
        "                                       test_labels, verbose=2)\n",
        "  acc.append(test_acc)\n",
        "  loss.append(test_loss)\n",
        "\n"
      ],
      "execution_count": null,
      "outputs": [
        {
          "output_type": "stream",
          "text": [
            "198/198 - 1s - loss: 0.4281 - binary_accuracy: 0.8612\n",
            "198/198 - 1s - loss: 0.5006 - binary_accuracy: 0.8618\n",
            "198/198 - 1s - loss: 0.3776 - binary_accuracy: 0.9290\n",
            "198/198 - 1s - loss: 0.4886 - binary_accuracy: 0.9285\n",
            "198/198 - 1s - loss: 0.4507 - binary_accuracy: 0.9149\n",
            "198/198 - 1s - loss: 0.5408 - binary_accuracy: 0.8919\n",
            "198/198 - 1s - loss: 0.4960 - binary_accuracy: 0.8822\n",
            "198/198 - 1s - loss: 0.4102 - binary_accuracy: 0.8852\n",
            "198/198 - 1s - loss: 0.4592 - binary_accuracy: 0.8941\n",
            "198/198 - 1s - loss: 0.4588 - binary_accuracy: 0.9003\n"
          ],
          "name": "stdout"
        }
      ]
    },
    {
      "cell_type": "code",
      "metadata": {
        "colab": {
          "base_uri": "https://localhost:8080/"
        },
        "id": "b26Njw2Vlnz4",
        "outputId": "7c77d818-fe5d-4cd0-f683-d9828dd3a934"
      },
      "source": [
        "avg_acc, acc_error = np.mean(loss), np.std(loss)/np.sqrt(10)\n",
        "avg_loss, loss_error = np.mean(acc), np.std(acc)/np.sqrt(10)\n",
        "print(\"the average test accuracy is {0:0.2f}\".format(avg_acc) , \n",
        "      \"with a standard error of {0:0.2f}\".format(acc_error))\n",
        "print(\"the average test loss is {0:0.2f}\".format(avg_loss) , \n",
        "      \"with a standard error of {0:0.2f}\".format(loss_error))\n"
      ],
      "execution_count": null,
      "outputs": [
        {
          "output_type": "stream",
          "text": [
            "the average test accuracy is 0.89 with a standard error of 0.01\n",
            "the average test loss is 0.46 with a standard error of 0.01\n"
          ],
          "name": "stdout"
        }
      ]
    },
    {
      "cell_type": "markdown",
      "metadata": {
        "id": "79XL-iawgEPA"
      },
      "source": [
        "This was the most successful model on the testing set. "
      ]
    },
    {
      "cell_type": "markdown",
      "metadata": {
        "id": "bQyKgwVvpqd8"
      },
      "source": [
        "# **Task 5:** $y = E_{\\ell} /E_{\\nu} $ algorithm\n",
        "\n",
        "A regression model was created to find values for the ratio of neutrino and lepton energies. \n",
        "In this dataset, any data points with $E_{\\nu} = 0$ were discarded to avoid dividing by 0."
      ]
    },
    {
      "cell_type": "code",
      "metadata": {
        "id": "4lwNONTYrXjA"
      },
      "source": [
        "task = 5\n",
        "train_images, train_labels = train_extractor(7)\n",
        "test_images, test_labels = test_extractor(11,2)\n",
        "xz_train, yz_train  = image_separator(train_images)\n",
        "xz_test, yz_test = image_separator(test_images)"
      ],
      "execution_count": null,
      "outputs": []
    },
    {
      "cell_type": "code",
      "metadata": {
        "id": "t-Pb6RzWqmS7",
        "colab": {
          "base_uri": "https://localhost:8080/"
        },
        "outputId": "71d3e92d-e638-4ace-9780-db2065c8bfd3"
      },
      "source": [
        "train_labels,test_labels = np.squeeze(train_labels),np.squeeze(test_labels)\n",
        "xz_input=Input(shape=(100,80,1))\n",
        "yz_input= Input(shape=(100,80,1))\n",
        "xz_model = feature_extractor(xz_input) # feature extractor for xz images\n",
        "yz_model = feature_extractor(yz_input) # feature extractor for yz images\n",
        "\n",
        "conv = concatenate([xz_model, yz_model])\n",
        "model = Flatten()(conv)\n",
        "model = Dense(48, activation='relu')(model)\n",
        "model = Dense(64, activation='relu')(model)\n",
        "model = Dropout(0.3)(model)\n",
        "output = Dense(1, activation='sigmoid')(model)\n",
        "model = Model(inputs=[xz_input, yz_input], outputs=[output])\n",
        "\n",
        "# summarize layers\n",
        "print(model.summary())\n",
        "# plot model\n",
        "#plot_model(model, to_file='convolutional_neural_network.png')"
      ],
      "execution_count": null,
      "outputs": [
        {
          "output_type": "stream",
          "text": [
            "Model: \"model\"\n",
            "__________________________________________________________________________________________________\n",
            "Layer (type)                    Output Shape         Param #     Connected to                     \n",
            "==================================================================================================\n",
            "input_1 (InputLayer)            [(None, 100, 80, 1)] 0                                            \n",
            "__________________________________________________________________________________________________\n",
            "input_2 (InputLayer)            [(None, 100, 80, 1)] 0                                            \n",
            "__________________________________________________________________________________________________\n",
            "conv2d (Conv2D)                 (None, 100, 80, 32)  160         input_1[0][0]                    \n",
            "__________________________________________________________________________________________________\n",
            "conv2d_3 (Conv2D)               (None, 100, 80, 32)  160         input_2[0][0]                    \n",
            "__________________________________________________________________________________________________\n",
            "max_pooling2d (MaxPooling2D)    (None, 34, 27, 32)   0           conv2d[0][0]                     \n",
            "__________________________________________________________________________________________________\n",
            "max_pooling2d_3 (MaxPooling2D)  (None, 34, 27, 32)   0           conv2d_3[0][0]                   \n",
            "__________________________________________________________________________________________________\n",
            "dropout (Dropout)               (None, 34, 27, 32)   0           max_pooling2d[0][0]              \n",
            "__________________________________________________________________________________________________\n",
            "dropout_2 (Dropout)             (None, 34, 27, 32)   0           max_pooling2d_3[0][0]            \n",
            "__________________________________________________________________________________________________\n",
            "conv2d_1 (Conv2D)               (None, 34, 27, 16)   2064        dropout[0][0]                    \n",
            "__________________________________________________________________________________________________\n",
            "conv2d_4 (Conv2D)               (None, 34, 27, 16)   2064        dropout_2[0][0]                  \n",
            "__________________________________________________________________________________________________\n",
            "max_pooling2d_1 (MaxPooling2D)  (None, 12, 9, 16)    0           conv2d_1[0][0]                   \n",
            "__________________________________________________________________________________________________\n",
            "max_pooling2d_4 (MaxPooling2D)  (None, 12, 9, 16)    0           conv2d_4[0][0]                   \n",
            "__________________________________________________________________________________________________\n",
            "dropout_1 (Dropout)             (None, 12, 9, 16)    0           max_pooling2d_1[0][0]            \n",
            "__________________________________________________________________________________________________\n",
            "dropout_3 (Dropout)             (None, 12, 9, 16)    0           max_pooling2d_4[0][0]            \n",
            "__________________________________________________________________________________________________\n",
            "conv2d_2 (Conv2D)               (None, 12, 9, 2)     130         dropout_1[0][0]                  \n",
            "__________________________________________________________________________________________________\n",
            "conv2d_5 (Conv2D)               (None, 12, 9, 2)     130         dropout_3[0][0]                  \n",
            "__________________________________________________________________________________________________\n",
            "max_pooling2d_2 (MaxPooling2D)  (None, 4, 3, 2)      0           conv2d_2[0][0]                   \n",
            "__________________________________________________________________________________________________\n",
            "max_pooling2d_5 (MaxPooling2D)  (None, 4, 3, 2)      0           conv2d_5[0][0]                   \n",
            "__________________________________________________________________________________________________\n",
            "flatten (Flatten)               (None, 24)           0           max_pooling2d_2[0][0]            \n",
            "__________________________________________________________________________________________________\n",
            "flatten_1 (Flatten)             (None, 24)           0           max_pooling2d_5[0][0]            \n",
            "__________________________________________________________________________________________________\n",
            "concatenate (Concatenate)       (None, 48)           0           flatten[0][0]                    \n",
            "                                                                 flatten_1[0][0]                  \n",
            "__________________________________________________________________________________________________\n",
            "flatten_2 (Flatten)             (None, 48)           0           concatenate[0][0]                \n",
            "__________________________________________________________________________________________________\n",
            "dense (Dense)                   (None, 48)           2352        flatten_2[0][0]                  \n",
            "__________________________________________________________________________________________________\n",
            "dense_1 (Dense)                 (None, 64)           3136        dense[0][0]                      \n",
            "__________________________________________________________________________________________________\n",
            "dropout_4 (Dropout)             (None, 64)           0           dense_1[0][0]                    \n",
            "__________________________________________________________________________________________________\n",
            "dense_2 (Dense)                 (None, 1)            65          dropout_4[0][0]                  \n",
            "==================================================================================================\n",
            "Total params: 10,261\n",
            "Trainable params: 10,261\n",
            "Non-trainable params: 0\n",
            "__________________________________________________________________________________________________\n",
            "None\n"
          ],
          "name": "stdout"
        }
      ]
    },
    {
      "cell_type": "code",
      "metadata": {
        "colab": {
          "base_uri": "https://localhost:8080/"
        },
        "id": "MopCcpEMQf2N",
        "outputId": "8c31730c-6961-447f-cdfd-4bab0229c0da"
      },
      "source": [
        "# compiling the model\n",
        "early_stop = tf.keras.callbacks.EarlyStopping(monitor = \"val_loss\", \n",
        "                                              mode = \"min\", patience=5, \n",
        "                                              restore_best_weights=True)\n",
        "keras.backend.clear_session()\n",
        "opt = tf.keras.optimizers.RMSprop()\n",
        "model.compile(optimizer=opt,\n",
        "              loss=tf.keras.losses.mse,\n",
        "              metrics=['mse'])\n",
        "history = model.fit([xz_train,yz_train], train_labels, epochs=60,\n",
        "                    validation_split=0.2,shuffle=True, batch_size=256, \n",
        "                    callbacks=early_stop)"
      ],
      "execution_count": null,
      "outputs": [
        {
          "output_type": "stream",
          "text": [
            "Epoch 1/60\n",
            "151/151 [==============================] - 11s 63ms/step - loss: 0.0755 - mse: 0.0714 - val_loss: 0.0583 - val_mse: 0.0548\n",
            "Epoch 2/60\n",
            "151/151 [==============================] - 9s 59ms/step - loss: 0.0581 - mse: 0.0548 - val_loss: 0.0560 - val_mse: 0.0531\n",
            "Epoch 3/60\n",
            "151/151 [==============================] - 9s 59ms/step - loss: 0.0561 - mse: 0.0533 - val_loss: 0.0540 - val_mse: 0.0516\n",
            "Epoch 4/60\n",
            "151/151 [==============================] - 9s 60ms/step - loss: 0.0542 - mse: 0.0518 - val_loss: 0.0530 - val_mse: 0.0509\n",
            "Epoch 5/60\n",
            "151/151 [==============================] - 9s 60ms/step - loss: 0.0527 - mse: 0.0507 - val_loss: 0.0526 - val_mse: 0.0508\n",
            "Epoch 6/60\n",
            "151/151 [==============================] - 9s 59ms/step - loss: 0.0527 - mse: 0.0510 - val_loss: 0.0509 - val_mse: 0.0493\n",
            "Epoch 7/60\n",
            "151/151 [==============================] - 9s 59ms/step - loss: 0.0512 - mse: 0.0497 - val_loss: 0.0533 - val_mse: 0.0520\n",
            "Epoch 8/60\n",
            "151/151 [==============================] - 9s 59ms/step - loss: 0.0516 - mse: 0.0503 - val_loss: 0.0497 - val_mse: 0.0485\n",
            "Epoch 9/60\n",
            "151/151 [==============================] - 9s 59ms/step - loss: 0.0509 - mse: 0.0497 - val_loss: 0.0498 - val_mse: 0.0487\n",
            "Epoch 10/60\n",
            "151/151 [==============================] - 9s 59ms/step - loss: 0.0506 - mse: 0.0495 - val_loss: 0.0498 - val_mse: 0.0488\n",
            "Epoch 11/60\n",
            "151/151 [==============================] - 9s 59ms/step - loss: 0.0501 - mse: 0.0491 - val_loss: 0.0500 - val_mse: 0.0491\n",
            "Epoch 12/60\n",
            "151/151 [==============================] - 9s 59ms/step - loss: 0.0492 - mse: 0.0483 - val_loss: 0.0488 - val_mse: 0.0479\n",
            "Epoch 13/60\n",
            "151/151 [==============================] - 9s 59ms/step - loss: 0.0495 - mse: 0.0487 - val_loss: 0.0504 - val_mse: 0.0496\n",
            "Epoch 14/60\n",
            "151/151 [==============================] - 9s 59ms/step - loss: 0.0488 - mse: 0.0480 - val_loss: 0.0491 - val_mse: 0.0483\n",
            "Epoch 15/60\n",
            "151/151 [==============================] - 9s 59ms/step - loss: 0.0488 - mse: 0.0481 - val_loss: 0.0491 - val_mse: 0.0483\n",
            "Epoch 16/60\n",
            "151/151 [==============================] - 9s 59ms/step - loss: 0.0488 - mse: 0.0480 - val_loss: 0.0504 - val_mse: 0.0497\n",
            "Epoch 17/60\n",
            "151/151 [==============================] - 9s 59ms/step - loss: 0.0481 - mse: 0.0474 - val_loss: 0.0481 - val_mse: 0.0475\n",
            "Epoch 18/60\n",
            "151/151 [==============================] - 9s 59ms/step - loss: 0.0484 - mse: 0.0477 - val_loss: 0.0481 - val_mse: 0.0475\n",
            "Epoch 19/60\n",
            "151/151 [==============================] - 9s 59ms/step - loss: 0.0478 - mse: 0.0472 - val_loss: 0.0483 - val_mse: 0.0476\n",
            "Epoch 20/60\n",
            "151/151 [==============================] - 9s 59ms/step - loss: 0.0484 - mse: 0.0478 - val_loss: 0.0468 - val_mse: 0.0462\n",
            "Epoch 21/60\n",
            "151/151 [==============================] - 9s 59ms/step - loss: 0.0481 - mse: 0.0475 - val_loss: 0.0467 - val_mse: 0.0461\n",
            "Epoch 22/60\n",
            "151/151 [==============================] - 9s 59ms/step - loss: 0.0477 - mse: 0.0471 - val_loss: 0.0472 - val_mse: 0.0466\n",
            "Epoch 23/60\n",
            "151/151 [==============================] - 9s 59ms/step - loss: 0.0474 - mse: 0.0468 - val_loss: 0.0483 - val_mse: 0.0477\n",
            "Epoch 24/60\n",
            "151/151 [==============================] - 9s 59ms/step - loss: 0.0469 - mse: 0.0463 - val_loss: 0.0462 - val_mse: 0.0456\n",
            "Epoch 25/60\n",
            "151/151 [==============================] - 9s 59ms/step - loss: 0.0474 - mse: 0.0468 - val_loss: 0.0469 - val_mse: 0.0463\n",
            "Epoch 26/60\n",
            "151/151 [==============================] - 9s 59ms/step - loss: 0.0472 - mse: 0.0466 - val_loss: 0.0462 - val_mse: 0.0457\n",
            "Epoch 27/60\n",
            "151/151 [==============================] - 9s 60ms/step - loss: 0.0473 - mse: 0.0468 - val_loss: 0.0463 - val_mse: 0.0457\n",
            "Epoch 28/60\n",
            "151/151 [==============================] - 9s 59ms/step - loss: 0.0470 - mse: 0.0464 - val_loss: 0.0467 - val_mse: 0.0461\n",
            "Epoch 29/60\n",
            "151/151 [==============================] - 9s 59ms/step - loss: 0.0468 - mse: 0.0462 - val_loss: 0.0459 - val_mse: 0.0454\n",
            "Epoch 30/60\n",
            "151/151 [==============================] - 9s 59ms/step - loss: 0.0461 - mse: 0.0455 - val_loss: 0.0458 - val_mse: 0.0452\n",
            "Epoch 31/60\n",
            "151/151 [==============================] - 9s 59ms/step - loss: 0.0463 - mse: 0.0458 - val_loss: 0.0462 - val_mse: 0.0456\n",
            "Epoch 32/60\n",
            "151/151 [==============================] - 9s 59ms/step - loss: 0.0465 - mse: 0.0459 - val_loss: 0.0460 - val_mse: 0.0455\n",
            "Epoch 33/60\n",
            "151/151 [==============================] - 9s 59ms/step - loss: 0.0465 - mse: 0.0459 - val_loss: 0.0463 - val_mse: 0.0457\n",
            "Epoch 34/60\n",
            "151/151 [==============================] - 9s 60ms/step - loss: 0.0465 - mse: 0.0460 - val_loss: 0.0459 - val_mse: 0.0453\n",
            "Epoch 35/60\n",
            "151/151 [==============================] - 9s 59ms/step - loss: 0.0464 - mse: 0.0458 - val_loss: 0.0462 - val_mse: 0.0456\n"
          ],
          "name": "stdout"
        }
      ]
    },
    {
      "cell_type": "code",
      "metadata": {
        "colab": {
          "base_uri": "https://localhost:8080/",
          "height": 312
        },
        "id": "k9RTi-f6Qk9O",
        "outputId": "b9c49fe7-3a7b-4858-fd00-4f19ea3e2c74"
      },
      "source": [
        "# we plot the accuracies of the trained model on the same graph as the test data accuracy\n",
        "plt.figure()\n",
        "plt.plot(history.history['mse'], label='Training accuracy')\n",
        "plt.plot(history.history['val_mse'], label = 'Validation accuracy')\n",
        "plt.xlabel('Epoch')\n",
        "plt.ylabel('Accuracy')\n",
        "plt.legend(loc='best')\n",
        "plt.title(\"Comparing the accuracies of the validation and trained data for regression model\")\n"
      ],
      "execution_count": null,
      "outputs": [
        {
          "output_type": "execute_result",
          "data": {
            "text/plain": [
              "Text(0.5, 1.0, 'Comparing the accuracies of the validation and trained data for regression model')"
            ]
          },
          "metadata": {
            "tags": []
          },
          "execution_count": 31
        },
        {
          "output_type": "display_data",
          "data": {
            "image/png": "[encoded data removed]",
            "text/plain": [
              "<Figure size 432x288 with 1 Axes>"
            ]
          },
          "metadata": {
            "tags": [],
            "needs_background": "light"
          }
        }
      ]
    },
    {
      "cell_type": "code",
      "metadata": {
        "colab": {
          "base_uri": "https://localhost:8080/",
          "height": 312
        },
        "id": "RjOCmq-9RUle",
        "outputId": "4773c3c8-a5f5-44c9-8384-8bc97b9c2d84"
      },
      "source": [
        "plt.figure()\n",
        "plt.plot(history.history['loss'], label='Training loss')\n",
        "plt.plot(history.history['val_loss'], label='Validation loss')\n",
        "plt.xlabel('Epoch')\n",
        "plt.ylabel('Loss')\n",
        "plt.legend(loc='best')\n",
        "plt.title(\"Comparing the losses of the validation and trained data for regression model\")\n"
      ],
      "execution_count": null,
      "outputs": [
        {
          "output_type": "execute_result",
          "data": {
            "text/plain": [
              "Text(0.5, 1.0, 'Comparing the losses of the validation and trained data for regression model')"
            ]
          },
          "metadata": {
            "tags": []
          },
          "execution_count": 32
        },
        {
          "output_type": "display_data",
          "data": {
            "image/png": "[encoded data removed]",
            "text/plain": [
              "<Figure size 432x288 with 1 Axes>"
            ]
          },
          "metadata": {
            "tags": [],
            "needs_background": "light"
          }
        }
      ]
    },
    {
      "cell_type": "code",
      "metadata": {
        "colab": {
          "base_uri": "https://localhost:8080/"
        },
        "id": "mIpycVXTRimb",
        "outputId": "38460f68-6b82-4d25-d92c-2adfd96d499e"
      },
      "source": [
        "test_acc, test_loss = model.evaluate([xz_test, yz_test], test_labels, verbose=2)"
      ],
      "execution_count": null,
      "outputs": [
        {
          "output_type": "stream",
          "text": [
            "437/437 - 2s - loss: 0.0455 - mse: 0.0449\n"
          ],
          "name": "stdout"
        }
      ]
    },
    {
      "cell_type": "markdown",
      "metadata": {
        "id": "2i4k03nucA7P"
      },
      "source": [
        "I would have liked to plot the train data against the model's predictions, however since the dependent variable is 2D (xz and yz images, as opposed to 1D data points) I could not do so. The model succeeded in learning as the loss and MSE decreased steadily. "
      ]
    },
    {
      "cell_type": "markdown",
      "metadata": {
        "id": "Z6uo2NRtP_iN"
      },
      "source": [
        "# **Task 6:** Interaction mode classifier"
      ]
    },
    {
      "cell_type": "code",
      "metadata": {
        "id": "8jNkq9MzcRRp"
      },
      "source": [
        "task = 6\n",
        "train_images, train_labels = train_extractor(15)\n",
        "test_images, test_labels = test_extractor(11,2)\n"
      ],
      "execution_count": null,
      "outputs": []
    },
    {
      "cell_type": "code",
      "metadata": {
        "id": "U5IkRFuWQy7w"
      },
      "source": [
        "xz_train, yz_train  = image_separator(train_images)\n",
        "xz_test, yz_test = image_separator(test_images)"
      ],
      "execution_count": null,
      "outputs": []
    },
    {
      "cell_type": "code",
      "metadata": {
        "id": "PgE-OOLvcqFd"
      },
      "source": [
        "# converts labels to categorical (0 to 4) from binary\n",
        "# need to be careful to run this cell only once otherwise it will  \n",
        "# keep adding extra dimensions\n",
        "train_labels = tf.keras.utils.to_categorical(train_labels, 5)\n",
        "test_labels = tf.keras.utils.to_categorical(test_labels, 5)\n"
      ],
      "execution_count": null,
      "outputs": []
    },
    {
      "cell_type": "code",
      "metadata": {
        "id": "_aNUBObUT0up"
      },
      "source": [
        "xz_input = Input(shape=(100,80,1))\n",
        "xz_model = feature_extractor(xz_input) # featur#e extractor for xz images\n",
        "yz_input = Input(shape=(100,80,1))\n",
        "yz_model = feature_extractor(yz_input) # feature extractor for yz images\n",
        "\n",
        "conv = concatenate([xz_model, yz_model])\n",
        "dense = Dense(8, activation='relu')(conv)\n",
        "dense = Dense(32, activation='relu')(dense)\n",
        "dense = Dropout(0.5)(dense)\n",
        "output = Dense(5, activation='softmax')(dense)\n",
        "model = Model(inputs=[xz_input, yz_input], outputs=[output])\n",
        "\n",
        "# summarize layers\n",
        "#print(model.summary())\n",
        "# plot model\n",
        "#plot_model(model, to_file='convolutional_neural_network.png')"
      ],
      "execution_count": null,
      "outputs": []
    },
    {
      "cell_type": "code",
      "metadata": {
        "colab": {
          "base_uri": "https://localhost:8080/"
        },
        "id": "7hfeyLIaT4e0",
        "outputId": "68287cee-ae22-41ab-f5cd-24eb05e978cf"
      },
      "source": [
        "                                  \n",
        "keras.backend.clear_session()\n",
        "\n",
        "model.compile(optimizer='adam',\n",
        "              loss=tf.keras.losses.categorical_crossentropy,\n",
        "              metrics=['accuracy'])\n",
        "history = model.fit([xz_train,yz_train], train_labels, epochs=100, \n",
        "                    validation_split=0.2,shuffle=True, batch_size=256, \n",
        "                    callbacks=[early_stop])"
      ],
      "execution_count": null,
      "outputs": [
        {
          "output_type": "stream",
          "text": [
            "Epoch 1/100\n",
            "47/47 [==============================] - 4s 66ms/step - loss: 1.9957 - accuracy: 0.2138 - val_loss: 1.6130 - val_accuracy: 0.2136\n",
            "Epoch 2/100\n",
            "47/47 [==============================] - 3s 60ms/step - loss: 1.6254 - accuracy: 0.1967 - val_loss: 1.6128 - val_accuracy: 0.2122\n",
            "Epoch 3/100\n",
            "47/47 [==============================] - 3s 59ms/step - loss: 1.6144 - accuracy: 0.2029 - val_loss: 1.6133 - val_accuracy: 0.2058\n",
            "Epoch 4/100\n",
            "47/47 [==============================] - 3s 59ms/step - loss: 1.6090 - accuracy: 0.2105 - val_loss: 1.6093 - val_accuracy: 0.2156\n",
            "Epoch 5/100\n",
            "47/47 [==============================] - 3s 59ms/step - loss: 1.5977 - accuracy: 0.2284 - val_loss: 1.5954 - val_accuracy: 0.2584\n",
            "Epoch 6/100\n",
            "47/47 [==============================] - 3s 59ms/step - loss: 1.5870 - accuracy: 0.2480 - val_loss: 1.5692 - val_accuracy: 0.2959\n",
            "Epoch 7/100\n",
            "47/47 [==============================] - 3s 60ms/step - loss: 1.5749 - accuracy: 0.2596 - val_loss: 1.5539 - val_accuracy: 0.2976\n",
            "Epoch 8/100\n",
            "47/47 [==============================] - 3s 59ms/step - loss: 1.5615 - accuracy: 0.2795 - val_loss: 1.5446 - val_accuracy: 0.3067\n",
            "Epoch 9/100\n",
            "47/47 [==============================] - 3s 60ms/step - loss: 1.5549 - accuracy: 0.2824 - val_loss: 1.5472 - val_accuracy: 0.2942\n",
            "Epoch 10/100\n",
            "47/47 [==============================] - 3s 60ms/step - loss: 1.5461 - accuracy: 0.2961 - val_loss: 1.5395 - val_accuracy: 0.3009\n",
            "Epoch 11/100\n",
            "47/47 [==============================] - 3s 66ms/step - loss: 1.5415 - accuracy: 0.2977 - val_loss: 1.5262 - val_accuracy: 0.3128\n",
            "Epoch 12/100\n",
            "47/47 [==============================] - 3s 59ms/step - loss: 1.5383 - accuracy: 0.2887 - val_loss: 1.5278 - val_accuracy: 0.3138\n",
            "Epoch 13/100\n",
            "47/47 [==============================] - 3s 59ms/step - loss: 1.5303 - accuracy: 0.3172 - val_loss: 1.5206 - val_accuracy: 0.3165\n",
            "Epoch 14/100\n",
            "47/47 [==============================] - 3s 60ms/step - loss: 1.5252 - accuracy: 0.3085 - val_loss: 1.5184 - val_accuracy: 0.3175\n",
            "Epoch 15/100\n",
            "47/47 [==============================] - 3s 59ms/step - loss: 1.5215 - accuracy: 0.3177 - val_loss: 1.5285 - val_accuracy: 0.3003\n",
            "Epoch 16/100\n",
            "47/47 [==============================] - 3s 59ms/step - loss: 1.5191 - accuracy: 0.3157 - val_loss: 1.5231 - val_accuracy: 0.3057\n",
            "Epoch 17/100\n",
            "47/47 [==============================] - 3s 59ms/step - loss: 1.5173 - accuracy: 0.3193 - val_loss: 1.5186 - val_accuracy: 0.3107\n",
            "Epoch 18/100\n",
            "47/47 [==============================] - 3s 59ms/step - loss: 1.5123 - accuracy: 0.3201 - val_loss: 1.5205 - val_accuracy: 0.3050\n",
            "Epoch 19/100\n",
            "47/47 [==============================] - 3s 59ms/step - loss: 1.5119 - accuracy: 0.3157 - val_loss: 1.5134 - val_accuracy: 0.3138\n",
            "Epoch 20/100\n",
            "47/47 [==============================] - 3s 59ms/step - loss: 1.5149 - accuracy: 0.3208 - val_loss: 1.5132 - val_accuracy: 0.3165\n",
            "Epoch 21/100\n",
            "47/47 [==============================] - 3s 59ms/step - loss: 1.5076 - accuracy: 0.3212 - val_loss: 1.5075 - val_accuracy: 0.3178\n",
            "Epoch 22/100\n",
            "47/47 [==============================] - 3s 59ms/step - loss: 1.5063 - accuracy: 0.3209 - val_loss: 1.5211 - val_accuracy: 0.3020\n",
            "Epoch 23/100\n",
            "47/47 [==============================] - 3s 59ms/step - loss: 1.5063 - accuracy: 0.3209 - val_loss: 1.4909 - val_accuracy: 0.3310\n",
            "Epoch 24/100\n",
            "47/47 [==============================] - 3s 59ms/step - loss: 1.5037 - accuracy: 0.3232 - val_loss: 1.5011 - val_accuracy: 0.3222\n",
            "Epoch 25/100\n",
            "47/47 [==============================] - 3s 60ms/step - loss: 1.5051 - accuracy: 0.3200 - val_loss: 1.4952 - val_accuracy: 0.3276\n",
            "Epoch 26/100\n",
            "47/47 [==============================] - 3s 60ms/step - loss: 1.4936 - accuracy: 0.3241 - val_loss: 1.4870 - val_accuracy: 0.3313\n",
            "Epoch 27/100\n",
            "47/47 [==============================] - 3s 59ms/step - loss: 1.4973 - accuracy: 0.3292 - val_loss: 1.4799 - val_accuracy: 0.3286\n",
            "Epoch 28/100\n",
            "47/47 [==============================] - 3s 59ms/step - loss: 1.4921 - accuracy: 0.3295 - val_loss: 1.4763 - val_accuracy: 0.3316\n",
            "Epoch 29/100\n",
            "47/47 [==============================] - 3s 59ms/step - loss: 1.4861 - accuracy: 0.3241 - val_loss: 1.4751 - val_accuracy: 0.3327\n",
            "Epoch 30/100\n",
            "47/47 [==============================] - 3s 59ms/step - loss: 1.4851 - accuracy: 0.3320 - val_loss: 1.4841 - val_accuracy: 0.3259\n",
            "Epoch 31/100\n",
            "47/47 [==============================] - 3s 59ms/step - loss: 1.4780 - accuracy: 0.3397 - val_loss: 1.4750 - val_accuracy: 0.3262\n",
            "Epoch 32/100\n",
            "47/47 [==============================] - 3s 59ms/step - loss: 1.4740 - accuracy: 0.3346 - val_loss: 1.4604 - val_accuracy: 0.3472\n",
            "Epoch 33/100\n",
            "47/47 [==============================] - 3s 59ms/step - loss: 1.4790 - accuracy: 0.3336 - val_loss: 1.4717 - val_accuracy: 0.3387\n",
            "Epoch 34/100\n",
            "47/47 [==============================] - 3s 59ms/step - loss: 1.4710 - accuracy: 0.3423 - val_loss: 1.4677 - val_accuracy: 0.3428\n",
            "Epoch 35/100\n",
            "47/47 [==============================] - 3s 59ms/step - loss: 1.4657 - accuracy: 0.3358 - val_loss: 1.4612 - val_accuracy: 0.3428\n",
            "Epoch 36/100\n",
            "47/47 [==============================] - 3s 60ms/step - loss: 1.4689 - accuracy: 0.3369 - val_loss: 1.4595 - val_accuracy: 0.3478\n",
            "Epoch 37/100\n",
            "47/47 [==============================] - 3s 59ms/step - loss: 1.4608 - accuracy: 0.3558 - val_loss: 1.4648 - val_accuracy: 0.3516\n",
            "Epoch 38/100\n",
            "47/47 [==============================] - 3s 59ms/step - loss: 1.4599 - accuracy: 0.3560 - val_loss: 1.4617 - val_accuracy: 0.3451\n",
            "Epoch 39/100\n",
            "47/47 [==============================] - 3s 59ms/step - loss: 1.4622 - accuracy: 0.3500 - val_loss: 1.4542 - val_accuracy: 0.3576\n",
            "Epoch 40/100\n",
            "47/47 [==============================] - 3s 59ms/step - loss: 1.4579 - accuracy: 0.3528 - val_loss: 1.4444 - val_accuracy: 0.3596\n",
            "Epoch 41/100\n",
            "47/47 [==============================] - 3s 59ms/step - loss: 1.4510 - accuracy: 0.3601 - val_loss: 1.4252 - val_accuracy: 0.3694\n",
            "Epoch 42/100\n",
            "47/47 [==============================] - 3s 59ms/step - loss: 1.4441 - accuracy: 0.3636 - val_loss: 1.4267 - val_accuracy: 0.3701\n",
            "Epoch 43/100\n",
            "47/47 [==============================] - 3s 59ms/step - loss: 1.4491 - accuracy: 0.3562 - val_loss: 1.4474 - val_accuracy: 0.3691\n",
            "Epoch 44/100\n",
            "47/47 [==============================] - 3s 59ms/step - loss: 1.4462 - accuracy: 0.3686 - val_loss: 1.4197 - val_accuracy: 0.3728\n",
            "Epoch 45/100\n",
            "47/47 [==============================] - 3s 59ms/step - loss: 1.4456 - accuracy: 0.3655 - val_loss: 1.4289 - val_accuracy: 0.3671\n",
            "Epoch 46/100\n",
            "47/47 [==============================] - 3s 59ms/step - loss: 1.4337 - accuracy: 0.3646 - val_loss: 1.4242 - val_accuracy: 0.3752\n",
            "Epoch 47/100\n",
            "47/47 [==============================] - 3s 60ms/step - loss: 1.4450 - accuracy: 0.3574 - val_loss: 1.4171 - val_accuracy: 0.3802\n",
            "Epoch 48/100\n",
            "47/47 [==============================] - 3s 59ms/step - loss: 1.4334 - accuracy: 0.3713 - val_loss: 1.4186 - val_accuracy: 0.3809\n",
            "Epoch 49/100\n",
            "47/47 [==============================] - 3s 59ms/step - loss: 1.4400 - accuracy: 0.3717 - val_loss: 1.4179 - val_accuracy: 0.3856\n",
            "Epoch 50/100\n",
            "47/47 [==============================] - 3s 59ms/step - loss: 1.4294 - accuracy: 0.3716 - val_loss: 1.3961 - val_accuracy: 0.3877\n",
            "Epoch 51/100\n",
            "47/47 [==============================] - 3s 59ms/step - loss: 1.4316 - accuracy: 0.3740 - val_loss: 1.4037 - val_accuracy: 0.3904\n",
            "Epoch 52/100\n",
            "47/47 [==============================] - 3s 59ms/step - loss: 1.4251 - accuracy: 0.3765 - val_loss: 1.4124 - val_accuracy: 0.3853\n",
            "Epoch 53/100\n",
            "47/47 [==============================] - 3s 59ms/step - loss: 1.4236 - accuracy: 0.3738 - val_loss: 1.4308 - val_accuracy: 0.3772\n",
            "Epoch 54/100\n",
            "47/47 [==============================] - 3s 60ms/step - loss: 1.4265 - accuracy: 0.3806 - val_loss: 1.3881 - val_accuracy: 0.3890\n",
            "Epoch 55/100\n",
            "47/47 [==============================] - 3s 60ms/step - loss: 1.4169 - accuracy: 0.3834 - val_loss: 1.3949 - val_accuracy: 0.3866\n",
            "Epoch 56/100\n",
            "47/47 [==============================] - 3s 59ms/step - loss: 1.4074 - accuracy: 0.3918 - val_loss: 1.3870 - val_accuracy: 0.3904\n",
            "Epoch 57/100\n",
            "47/47 [==============================] - 3s 59ms/step - loss: 1.4122 - accuracy: 0.3808 - val_loss: 1.3782 - val_accuracy: 0.3930\n",
            "Epoch 58/100\n",
            "47/47 [==============================] - 3s 59ms/step - loss: 1.4256 - accuracy: 0.3737 - val_loss: 1.3839 - val_accuracy: 0.3984\n",
            "Epoch 59/100\n",
            "47/47 [==============================] - 3s 59ms/step - loss: 1.4089 - accuracy: 0.3880 - val_loss: 1.3878 - val_accuracy: 0.3897\n",
            "Epoch 60/100\n",
            "47/47 [==============================] - 3s 59ms/step - loss: 1.4155 - accuracy: 0.3853 - val_loss: 1.3862 - val_accuracy: 0.3917\n",
            "Epoch 61/100\n",
            "47/47 [==============================] - 3s 59ms/step - loss: 1.3998 - accuracy: 0.3927 - val_loss: 1.3822 - val_accuracy: 0.3930\n",
            "Epoch 62/100\n",
            "47/47 [==============================] - 3s 59ms/step - loss: 1.4100 - accuracy: 0.3846 - val_loss: 1.3849 - val_accuracy: 0.3941\n"
          ],
          "name": "stdout"
        }
      ]
    },
    {
      "cell_type": "code",
      "metadata": {
        "colab": {
          "base_uri": "https://localhost:8080/",
          "height": 590
        },
        "id": "ckPuLvd-UumU",
        "outputId": "b436507d-f471-481f-b073-827cfae9fc15"
      },
      "source": [
        "# we plot the accuracies of the trained model \n",
        "# on the same graph as the test data accuracy\n",
        "plt.figure()\n",
        "plt.plot(history.history['accuracy'], label='Training accuracy')\n",
        "plt.plot(history.history['val_accuracy'], label = 'Validation accuracy')\n",
        "plt.xlabel('Epoch')\n",
        "plt.ylabel('Accuracy')\n",
        "plt.legend(loc='best')\n",
        "plt.title(\"Comparing the accuracies for interaction mode classifier\")\n",
        "plt.figure()\n",
        "plt.plot(history.history['loss'], label='Training loss')\n",
        "plt.plot(history.history['val_loss'], label='Validation loss')\n",
        "plt.xlabel('Epoch')\n",
        "plt.ylabel('Loss')\n",
        "plt.legend(loc='best')\n",
        "plt.title(\"Comparing the losses for interaction mode classifier\")\n"
      ],
      "execution_count": null,
      "outputs": [
        {
          "output_type": "execute_result",
          "data": {
            "text/plain": [
              "Text(0.5, 1.0, 'Comparing the losses for interaction mode classifier')"
            ]
          },
          "metadata": {
            "tags": []
          },
          "execution_count": 47
        },
        {
          "output_type": "display_data",
          "data": {
            "image/png": "[encoded data removed]",
            "text/plain": [
              "<Figure size 432x288 with 1 Axes>"
            ]
          },
          "metadata": {
            "tags": [],
            "needs_background": "light"
          }
        },
        {
          "output_type": "display_data",
          "data": {
            "image/png": "[encoded data removed]",
            "text/plain": [
              "<Figure size 432x288 with 1 Axes>"
            ]
          },
          "metadata": {
            "tags": [],
            "needs_background": "light"
          }
        }
      ]
    },
    {
      "cell_type": "markdown",
      "metadata": {
        "id": "ollRRpfpgezn"
      },
      "source": [
        "The model's performance was very poor, possibly due to plenty of NC interactions or insufficient data. The model definitely learned, however it is very unlikely that it would produce any meaningful results on any test data, given the final accuracy of ~40%"
      ]
    }
  ]
}